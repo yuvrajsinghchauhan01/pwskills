{
 "cells": [
  {
   "cell_type": "code",
   "execution_count": 1,
   "id": "d3a03dc6",
   "metadata": {},
   "outputs": [
    {
     "data": {
      "text/plain": [
       "'\\nQ1. How do you comment code in Python? What are the different types of comments?\\n\\n'"
      ]
     },
     "execution_count": 1,
     "metadata": {},
     "output_type": "execute_result"
    }
   ],
   "source": [
    "'''\n",
    "Q1. How do you comment code in Python? What are the different types of comments?\n",
    "\n",
    "'''"
   ]
  },
  {
   "attachments": {},
   "cell_type": "markdown",
   "id": "0fcec4b9",
   "metadata": {},
   "source": [
    "there are two types of comments\n",
    "1. multi line comment\n",
    "\n",
    "e.g :-\n",
    "\n",
    "\n",
    "''' this is multi\n",
    "\n",
    "    line comment. '''\n",
    "\n",
    "2. single line comment\n",
    "\n",
    "e.g :-\n",
    "\n",
    "\n"
   ]
  },
  {
   "cell_type": "code",
   "execution_count": null,
   "id": "cc928d0e",
   "metadata": {},
   "outputs": [],
   "source": [
    "#this is single line comment"
   ]
  },
  {
   "cell_type": "code",
   "execution_count": null,
   "id": "7a4e0fa6",
   "metadata": {},
   "outputs": [],
   "source": [
    "'''\n",
    "Q2. What are variables in Python? How do you declare and assign values to variables?\n",
    "\n",
    "'''"
   ]
  },
  {
   "attachments": {},
   "cell_type": "markdown",
   "id": "9f2d24fb",
   "metadata": {},
   "source": [
    "It's symbolic name that is a reference to an object(Data type)."
   ]
  },
  {
   "cell_type": "code",
   "execution_count": 1,
   "id": "5da3e8aa",
   "metadata": {},
   "outputs": [],
   "source": [
    "name = 'pwskills'"
   ]
  },
  {
   "attachments": {},
   "cell_type": "markdown",
   "id": "46b54a7a",
   "metadata": {},
   "source": [
    "HERE 'name' is a reference to a str data type aka 'pwskills'"
   ]
  },
  {
   "cell_type": "code",
   "execution_count": null,
   "id": "bc67967d",
   "metadata": {},
   "outputs": [],
   "source": [
    "'''\n",
    "Q3. How do you convert one data type to another in Python? \n",
    "\n",
    "'''"
   ]
  },
  {
   "attachments": {},
   "cell_type": "markdown",
   "id": "7d3ad5c8",
   "metadata": {},
   "source": [
    "converting one data type to another is called typecasting"
   ]
  },
  {
   "cell_type": "code",
   "execution_count": 4,
   "id": "f5b5a332",
   "metadata": {},
   "outputs": [],
   "source": [
    "number = 11\n",
    "new_number = (str(number))\n"
   ]
  },
  {
   "cell_type": "code",
   "execution_count": 9,
   "id": "e1cc3ff6",
   "metadata": {},
   "outputs": [
    {
     "data": {
      "text/plain": [
       "int"
      ]
     },
     "execution_count": 9,
     "metadata": {},
     "output_type": "execute_result"
    }
   ],
   "source": [
    "type(number)"
   ]
  },
  {
   "cell_type": "code",
   "execution_count": 10,
   "id": "9c90bc1a",
   "metadata": {},
   "outputs": [
    {
     "data": {
      "text/plain": [
       "11"
      ]
     },
     "execution_count": 10,
     "metadata": {},
     "output_type": "execute_result"
    }
   ],
   "source": [
    "number"
   ]
  },
  {
   "cell_type": "code",
   "execution_count": 8,
   "id": "5a01eff7",
   "metadata": {},
   "outputs": [
    {
     "data": {
      "text/plain": [
       "str"
      ]
     },
     "execution_count": 8,
     "metadata": {},
     "output_type": "execute_result"
    }
   ],
   "source": [
    "type(new_number)"
   ]
  },
  {
   "cell_type": "code",
   "execution_count": 11,
   "id": "6b6e3350",
   "metadata": {},
   "outputs": [
    {
     "data": {
      "text/plain": [
       "'11'"
      ]
     },
     "execution_count": 11,
     "metadata": {},
     "output_type": "execute_result"
    }
   ],
   "source": [
    "new_number"
   ]
  },
  {
   "cell_type": "code",
   "execution_count": null,
   "id": "ac97a98b",
   "metadata": {},
   "outputs": [],
   "source": [
    "'''\n",
    "Q4. How do you write and execute a Python script from the command line? \n",
    "'''"
   ]
  },
  {
   "attachments": {},
   "cell_type": "markdown",
   "id": "d91d460d",
   "metadata": {},
   "source": [
    "1. Open a text editor or IDE.\n",
    "2. Write your Python script and save it with a .py extension (e.g., hello_world.py).\n",
    "3. Open a command prompt or terminal.\n",
    "4. Navigate to the directory where the script is saved using the cd command.\n",
    "5. Execute the script using the command python your_script_name.py.\n",
    "6. View the output in the command prompt or terminal."
   ]
  },
  {
   "cell_type": "code",
   "execution_count": null,
   "id": "0b452a75",
   "metadata": {},
   "outputs": [],
   "source": [
    "'''\n",
    "Q5. Given a list my_list = [1, 2, 3, 4, 5], \n",
    "write the code to slice the list and obtain the sub-list [2, 3].\n",
    "'''"
   ]
  },
  {
   "cell_type": "code",
   "execution_count": 12,
   "id": "4db86918",
   "metadata": {},
   "outputs": [
    {
     "data": {
      "text/plain": [
       "[2, 3]"
      ]
     },
     "execution_count": 12,
     "metadata": {},
     "output_type": "execute_result"
    }
   ],
   "source": [
    "my_list = [1, 2, 3, 4, 5]\n",
    "my_list[1:3]"
   ]
  },
  {
   "cell_type": "code",
   "execution_count": null,
   "id": "4d803b39",
   "metadata": {},
   "outputs": [],
   "source": [
    "'''\n",
    "Q6. What is a complex number in mathematics, and how is it represented in Python? \n",
    "'''"
   ]
  },
  {
   "cell_type": "code",
   "execution_count": 22,
   "id": "52594b68",
   "metadata": {},
   "outputs": [],
   "source": [
    "complex_number =  (1 + 3j) + (9 + 7j)"
   ]
  },
  {
   "cell_type": "code",
   "execution_count": 23,
   "id": "fe170aaf",
   "metadata": {},
   "outputs": [
    {
     "data": {
      "text/plain": [
       "complex"
      ]
     },
     "execution_count": 23,
     "metadata": {},
     "output_type": "execute_result"
    }
   ],
   "source": [
    "type(complex_number)"
   ]
  },
  {
   "cell_type": "code",
   "execution_count": 24,
   "id": "f1552d78",
   "metadata": {},
   "outputs": [
    {
     "name": "stdout",
     "output_type": "stream",
     "text": [
      "(10+10j)\n"
     ]
    }
   ],
   "source": [
    "print(complex_number)"
   ]
  },
  {
   "cell_type": "code",
   "execution_count": null,
   "id": "5cea25e1",
   "metadata": {},
   "outputs": [],
   "source": [
    "'''\n",
    "Q7. What is the correct way to declare a variable named age and assign the value 25 to it? \n",
    "\n",
    "'''"
   ]
  },
  {
   "cell_type": "code",
   "execution_count": 2,
   "id": "fe596bb9",
   "metadata": {},
   "outputs": [],
   "source": [
    "age = 25\n",
    "_age = 25\n",
    "age_ = 25"
   ]
  },
  {
   "attachments": {},
   "cell_type": "markdown",
   "id": "0903ef4f",
   "metadata": {},
   "source": [
    "1. variable can be assigned with underscore(special character only)\n",
    "2. no number should be at the starting\n",
    "3. use all capital letter only for constant variables\n",
    "\n",
    "above all assigned variable are correct under pep 8 style guide"
   ]
  },
  {
   "cell_type": "code",
   "execution_count": null,
   "id": "fce45ab1",
   "metadata": {},
   "outputs": [],
   "source": [
    "'''\n",
    "Q8. Declare a variable named price and assign the value 9.99 to it.\n",
    "What data type does this variable  belong to? \n",
    "\n",
    "'''"
   ]
  },
  {
   "cell_type": "code",
   "execution_count": 3,
   "id": "facb2f52",
   "metadata": {},
   "outputs": [
    {
     "data": {
      "text/plain": [
       "float"
      ]
     },
     "execution_count": 3,
     "metadata": {},
     "output_type": "execute_result"
    }
   ],
   "source": [
    "decimal = 9.99\n",
    "type(decimal)"
   ]
  },
  {
   "cell_type": "code",
   "execution_count": null,
   "id": "ce07ce7b",
   "metadata": {},
   "outputs": [],
   "source": [
    "'''\n",
    "Q9. Create a variable named name and assign your full name to it as a string. \n",
    "How would you print the  value of this variable?\n",
    "'''"
   ]
  },
  {
   "cell_type": "code",
   "execution_count": 4,
   "id": "112d1c4d",
   "metadata": {},
   "outputs": [
    {
     "name": "stdout",
     "output_type": "stream",
     "text": [
      "yuvraj singh chauhan\n"
     ]
    }
   ],
   "source": [
    "name = 'yuvraj singh chauhan'\n",
    "print(name)"
   ]
  },
  {
   "cell_type": "code",
   "execution_count": null,
   "id": "148444df",
   "metadata": {},
   "outputs": [],
   "source": [
    "'''\n",
    "Q10. Given the string \"Hello, World!\", extract the substring \"World\". \n",
    "\n",
    "'''"
   ]
  },
  {
   "cell_type": "code",
   "execution_count": 6,
   "id": "3e018cd7",
   "metadata": {},
   "outputs": [
    {
     "data": {
      "text/plain": [
       "'World'"
      ]
     },
     "execution_count": 6,
     "metadata": {},
     "output_type": "execute_result"
    }
   ],
   "source": [
    "'Hello, World!'[7:12]"
   ]
  },
  {
   "cell_type": "code",
   "execution_count": null,
   "id": "b55bc57c",
   "metadata": {},
   "outputs": [],
   "source": [
    "'''\n",
    "Q11. Create a variable named \"is_student\" and assign it a boolean value \n",
    "indicating whether you are  currently a student or not. \n",
    "\n",
    "'''"
   ]
  },
  {
   "cell_type": "code",
   "execution_count": 7,
   "id": "44b08193",
   "metadata": {},
   "outputs": [],
   "source": [
    "is_student = True"
   ]
  },
  {
   "cell_type": "code",
   "execution_count": 8,
   "id": "fa7e0d6f",
   "metadata": {},
   "outputs": [
    {
     "data": {
      "text/plain": [
       "True"
      ]
     },
     "execution_count": 8,
     "metadata": {},
     "output_type": "execute_result"
    }
   ],
   "source": [
    "is_student"
   ]
  },
  {
   "cell_type": "code",
   "execution_count": null,
   "id": "b0bdd776",
   "metadata": {},
   "outputs": [],
   "source": []
  }
 ],
 "metadata": {
  "kernelspec": {
   "display_name": "Python 3 (ipykernel)",
   "language": "python",
   "name": "python3"
  },
  "language_info": {
   "codemirror_mode": {
    "name": "ipython",
    "version": 3
   },
   "file_extension": ".py",
   "mimetype": "text/x-python",
   "name": "python",
   "nbconvert_exporter": "python",
   "pygments_lexer": "ipython3",
   "version": "3.9.13"
  }
 },
 "nbformat": 4,
 "nbformat_minor": 5
}
