{
 "cells": [
  {
   "cell_type": "code",
   "execution_count": null,
   "id": "d1b19d42",
   "metadata": {},
   "outputs": [],
   "source": [
    "'''\n",
    "Q1. Create a python program to sort the given list of tuples based on integer value using a\n",
    "lambda function.\n",
    "[('Sachin Tendulkar', 34357), ('Ricky Ponting', 27483), ('Jack Kallis', 25534), ('Virat Kohli', 24936)]\n",
    "'''"
   ]
  },
  {
   "cell_type": "code",
   "execution_count": 13,
   "id": "aedc4bae",
   "metadata": {},
   "outputs": [],
   "source": [
    "lst = [('Sachin Tendulkar', 34357), ('Ricky Ponting', 27483), ('Jack Kallis', 25534), ('Virat Kohli', 24936)]\n"
   ]
  },
  {
   "cell_type": "code",
   "execution_count": 17,
   "id": "15fa40c6",
   "metadata": {},
   "outputs": [],
   "source": [
    "sorted_data = sorted(lst,key = lambda x:x[1])"
   ]
  },
  {
   "cell_type": "code",
   "execution_count": 18,
   "id": "c1ce6899",
   "metadata": {},
   "outputs": [
    {
     "data": {
      "text/plain": [
       "[('Virat Kohli', 24936),\n",
       " ('Jack Kallis', 25534),\n",
       " ('Ricky Ponting', 27483),\n",
       " ('Sachin Tendulkar', 34357)]"
      ]
     },
     "execution_count": 18,
     "metadata": {},
     "output_type": "execute_result"
    }
   ],
   "source": [
    "sorted_data"
   ]
  },
  {
   "cell_type": "code",
   "execution_count": null,
   "id": "7e424ccc",
   "metadata": {},
   "outputs": [],
   "source": [
    "'''\n",
    "Q2. Write a Python Program to find the squares of all the numbers in the\n",
    "given list of integers using\n",
    "lambda and map functions.\n",
    "[1, 2, 3, 4, 5, 6, 7, 8, 9, 10]\n",
    "'''"
   ]
  },
  {
   "cell_type": "code",
   "execution_count": 19,
   "id": "e00c10fe",
   "metadata": {},
   "outputs": [
    {
     "data": {
      "text/plain": [
       "[1, 4, 9, 16, 25, 36, 49, 64, 81, 100]"
      ]
     },
     "execution_count": 19,
     "metadata": {},
     "output_type": "execute_result"
    }
   ],
   "source": [
    "lst = [1, 2, 3, 4, 5, 6, 7, 8, 9, 10]\n",
    "list(map(lambda x: x**2,lst))"
   ]
  },
  {
   "cell_type": "code",
   "execution_count": null,
   "id": "c63f0dfa",
   "metadata": {},
   "outputs": [],
   "source": [
    "'''\n",
    "Q3. Write a python program to convert the given list of integers into a tuple of strings.\n",
    "Use map and lambda functions\n",
    "Given String: [1, 2, 3, 4, 5, 6, 7, 8, 9, 10]\n",
    "Expected output: ('1', '2', '3', '4', '5', '6', '7', '8', '9', '10')\n",
    "'''"
   ]
  },
  {
   "cell_type": "code",
   "execution_count": 23,
   "id": "f556ec75",
   "metadata": {},
   "outputs": [
    {
     "data": {
      "text/plain": [
       "('1', '2', '3', '4', '5', '6', '7', '8', '9', '10')"
      ]
     },
     "execution_count": 23,
     "metadata": {},
     "output_type": "execute_result"
    }
   ],
   "source": [
    "lst1 = [1, 2, 3, 4, 5, 6, 7, 8, 9, 10]\n",
    "tuple(map(lambda x :str(x) , lst1))"
   ]
  },
  {
   "cell_type": "code",
   "execution_count": null,
   "id": "db52238a",
   "metadata": {},
   "outputs": [],
   "source": [
    "'''\n",
    "Q4. Write a python program using reduce function to compute the product of a list\n",
    "containing numbers from 1 to 25.\n",
    "'''"
   ]
  },
  {
   "cell_type": "code",
   "execution_count": 30,
   "id": "1208744f",
   "metadata": {},
   "outputs": [],
   "source": [
    "lst2 = [x for x in range(1,26)]"
   ]
  },
  {
   "cell_type": "code",
   "execution_count": 31,
   "id": "bc713db5",
   "metadata": {},
   "outputs": [
    {
     "data": {
      "text/plain": [
       "15511210043330985984000000"
      ]
     },
     "execution_count": 31,
     "metadata": {},
     "output_type": "execute_result"
    }
   ],
   "source": [
    "from functools import reduce\n",
    "reduce(lambda x, y : x*y,lst2)"
   ]
  },
  {
   "cell_type": "code",
   "execution_count": null,
   "id": "75317bc1",
   "metadata": {},
   "outputs": [],
   "source": [
    "'''\n",
    "Q5. Write a python program to filter the numbers in a given list that are \n",
    "divisible by 2 and 3 using the filter function.\n",
    "[2, 3, 6, 9, 27, 60, 90, 120, 55, 46]\n",
    "'''"
   ]
  },
  {
   "cell_type": "code",
   "execution_count": 33,
   "id": "8e7ff72e",
   "metadata": {},
   "outputs": [
    {
     "data": {
      "text/plain": [
       "[6, 60, 90, 120]"
      ]
     },
     "execution_count": 33,
     "metadata": {},
     "output_type": "execute_result"
    }
   ],
   "source": [
    "lst2 = [2, 3, 6, 9, 27, 60, 90, 120, 55, 46]\n",
    "list(filter(lambda x: x%2==0 and x%3==0, lst2))"
   ]
  },
  {
   "cell_type": "code",
   "execution_count": null,
   "id": "5aa6e9b0",
   "metadata": {},
   "outputs": [],
   "source": [
    "'''\n",
    "Q6. Write a python program to find palindromes in the given list of strings\n",
    "using lambda and filter function.\n",
    "['python', 'php', 'aba', 'radar', 'level']\n",
    "'''"
   ]
  },
  {
   "cell_type": "code",
   "execution_count": 34,
   "id": "d5bfa4f6",
   "metadata": {},
   "outputs": [
    {
     "data": {
      "text/plain": [
       "['php', 'aba', 'radar', 'level']"
      ]
     },
     "execution_count": 34,
     "metadata": {},
     "output_type": "execute_result"
    }
   ],
   "source": [
    "lst3 = ['python', 'php', 'aba', 'radar', 'level']\n",
    "list(filter(lambda x: x == x[::-1], lst3))"
   ]
  },
  {
   "cell_type": "code",
   "execution_count": null,
   "id": "fd0888ff",
   "metadata": {},
   "outputs": [],
   "source": []
  }
 ],
 "metadata": {
  "kernelspec": {
   "display_name": "Python 3 (ipykernel)",
   "language": "python",
   "name": "python3"
  },
  "language_info": {
   "codemirror_mode": {
    "name": "ipython",
    "version": 3
   },
   "file_extension": ".py",
   "mimetype": "text/x-python",
   "name": "python",
   "nbconvert_exporter": "python",
   "pygments_lexer": "ipython3",
   "version": "3.9.13"
  }
 },
 "nbformat": 4,
 "nbformat_minor": 5
}
