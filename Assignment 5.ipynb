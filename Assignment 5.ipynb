{
 "cells": [
  {
   "cell_type": "code",
   "execution_count": null,
   "id": "835a2ed5",
   "metadata": {},
   "outputs": [],
   "source": [
    "'''\n",
    "Q1, Create a vehicle class with an init method having instance\n",
    "    variables as name_of_vehicle, max_speed and average_of_vehicle.\n",
    "'''"
   ]
  },
  {
   "cell_type": "code",
   "execution_count": 2,
   "id": "6402e0b4",
   "metadata": {},
   "outputs": [],
   "source": [
    "class Vehicle:\n",
    "    \n",
    "    def __init__(self, name_of_vehicle, max_speed, average_of_vehicle):\n",
    "        \n",
    "        self.name_of_vehicle = name_of_vehicle\n",
    "        self.max_speed = max_speed\n",
    "        self.average_of_vehicle = average_of_vehicle"
   ]
  },
  {
   "cell_type": "code",
   "execution_count": null,
   "id": "9bfa9165",
   "metadata": {},
   "outputs": [],
   "source": [
    "'''\n",
    "Q2. Create a child class car from the vehicle class created in Que 1,\n",
    "    which will inherit the vehicle class.\n",
    "    Create a method named seating_capacity which takes capacity as\n",
    "    an argument and returns the name of\n",
    "    the vehicle and its seating capacity.\n",
    "'''"
   ]
  },
  {
   "cell_type": "code",
   "execution_count": 19,
   "id": "ef883d9c",
   "metadata": {},
   "outputs": [],
   "source": [
    "class Child_class_car(Vehicle):\n",
    "    \n",
    "    def seating_capacity(self, seating_capacity):\n",
    "        \n",
    "        return f'car name is {self.name_of_vehicle} and its seating capacity is {seating_capacity}.'"
   ]
  },
  {
   "cell_type": "code",
   "execution_count": 20,
   "id": "c1732157",
   "metadata": {},
   "outputs": [],
   "source": [
    "check = Child_class_car('Jaguar', '260', '11')"
   ]
  },
  {
   "cell_type": "code",
   "execution_count": 21,
   "id": "305d1e26",
   "metadata": {},
   "outputs": [
    {
     "data": {
      "text/plain": [
       "'car name is Jaguar and its seating capacity is 4.'"
      ]
     },
     "execution_count": 21,
     "metadata": {},
     "output_type": "execute_result"
    }
   ],
   "source": [
    "check.seating_capacity(4)"
   ]
  },
  {
   "cell_type": "code",
   "execution_count": null,
   "id": "5f2001ed",
   "metadata": {},
   "outputs": [],
   "source": [
    "'''\n",
    "Q3. What is multiple inheritance? Write a python code to demonstrate multiple inheritance.\n",
    "'''"
   ]
  },
  {
   "cell_type": "markdown",
   "id": "3d6998da",
   "metadata": {},
   "source": [
    "an object or class can inherit features from more than one parent object or parent class. It is distinct from single inheritance, where an object or class may only inherit from one particular object or class."
   ]
  },
  {
   "cell_type": "code",
   "execution_count": 29,
   "id": "486293a3",
   "metadata": {},
   "outputs": [],
   "source": [
    "class Class1:\n",
    "    \n",
    "    def testclass1(self):\n",
    "        return 'This is class 1 method'"
   ]
  },
  {
   "cell_type": "code",
   "execution_count": 23,
   "id": "4fda70a6",
   "metadata": {},
   "outputs": [],
   "source": [
    "class Class2:\n",
    "    \n",
    "    def testClass2(self):\n",
    "        return 'This is class 2 method'"
   ]
  },
  {
   "cell_type": "code",
   "execution_count": 24,
   "id": "ddb46b87",
   "metadata": {},
   "outputs": [],
   "source": [
    "class Class3(Class1, Class2):\n",
    "    \n",
    "    def testClass3(self):\n",
    "        return 'This is class 3 method'"
   ]
  },
  {
   "cell_type": "code",
   "execution_count": 25,
   "id": "e6e82154",
   "metadata": {},
   "outputs": [],
   "source": [
    "obj = Class3()"
   ]
  },
  {
   "cell_type": "code",
   "execution_count": 26,
   "id": "24ff9cb6",
   "metadata": {},
   "outputs": [
    {
     "data": {
      "text/plain": [
       "'This is class 1 method'"
      ]
     },
     "execution_count": 26,
     "metadata": {},
     "output_type": "execute_result"
    }
   ],
   "source": [
    "obj.testclass1()"
   ]
  },
  {
   "cell_type": "code",
   "execution_count": 27,
   "id": "f6932839",
   "metadata": {},
   "outputs": [
    {
     "data": {
      "text/plain": [
       "'This is class 2 method'"
      ]
     },
     "execution_count": 27,
     "metadata": {},
     "output_type": "execute_result"
    }
   ],
   "source": [
    "obj.testClass2()"
   ]
  },
  {
   "cell_type": "code",
   "execution_count": 28,
   "id": "cb13f615",
   "metadata": {},
   "outputs": [
    {
     "data": {
      "text/plain": [
       "'This is class 3 method'"
      ]
     },
     "execution_count": 28,
     "metadata": {},
     "output_type": "execute_result"
    }
   ],
   "source": [
    "obj.testClass3()"
   ]
  },
  {
   "cell_type": "code",
   "execution_count": null,
   "id": "1711445c",
   "metadata": {},
   "outputs": [],
   "source": [
    "'''\n",
    "Q4. What are getter and setter in python? Create a class and create a getter and\n",
    "    a setter method in this class.\n",
    "'''"
   ]
  },
  {
   "cell_type": "markdown",
   "id": "a080e985",
   "metadata": {},
   "source": [
    "Getter: A method that allows you to access an attribute in a given class.<br>\n",
    "Setter: A method that allows you to set or mutate the value of an attribute in a class"
   ]
  },
  {
   "cell_type": "code",
   "execution_count": 58,
   "id": "0ab80c23",
   "metadata": {},
   "outputs": [],
   "source": [
    "class Student_detail:\n",
    "    \n",
    "    def __init__(self, age=0):\n",
    "        \n",
    "        self.__age = age\n",
    "        \n",
    "    def set_age(self, x):\n",
    "         self.__age =  x\n",
    "    \n",
    "    def get_age(self):\n",
    "        return self.__age"
   ]
  },
  {
   "cell_type": "code",
   "execution_count": 59,
   "id": "5f725ce4",
   "metadata": {},
   "outputs": [],
   "source": [
    "stud1 = Student_detail(5)"
   ]
  },
  {
   "cell_type": "code",
   "execution_count": 60,
   "id": "a545b71e",
   "metadata": {},
   "outputs": [
    {
     "data": {
      "text/plain": [
       "5"
      ]
     },
     "execution_count": 60,
     "metadata": {},
     "output_type": "execute_result"
    }
   ],
   "source": [
    "stud1.get_age()"
   ]
  },
  {
   "cell_type": "code",
   "execution_count": 61,
   "id": "05682f36",
   "metadata": {},
   "outputs": [],
   "source": [
    "stud2 = Student_detail()"
   ]
  },
  {
   "cell_type": "code",
   "execution_count": 64,
   "id": "77580153",
   "metadata": {},
   "outputs": [],
   "source": [
    "# setting the age using setter\n",
    "stud2.set_age(4)"
   ]
  },
  {
   "cell_type": "code",
   "execution_count": 65,
   "id": "123be105",
   "metadata": {},
   "outputs": [
    {
     "data": {
      "text/plain": [
       "4"
      ]
     },
     "execution_count": 65,
     "metadata": {},
     "output_type": "execute_result"
    }
   ],
   "source": [
    "# retrieving age using getter\n",
    "stud2.get_age()"
   ]
  },
  {
   "cell_type": "code",
   "execution_count": null,
   "id": "1f21fa24",
   "metadata": {},
   "outputs": [],
   "source": [
    "'''\n",
    "Q5. What is method overriding in python? \n",
    "    Write a python code to demonstrate method overriding.\n",
    "'''"
   ]
  },
  {
   "cell_type": "markdown",
   "id": "e807dd41",
   "metadata": {},
   "source": [
    "Method overriding is a feature of object-oriented programming languages where the subclass or child class can provide the program with specific characteristics or a specific implementation process of data provided that are already defined in the parent class or superclass."
   ]
  },
  {
   "cell_type": "code",
   "execution_count": 67,
   "id": "3ba5fccc",
   "metadata": {},
   "outputs": [
    {
     "name": "stdout",
     "output_type": "stream",
     "text": [
      "Inside Parent class\n",
      "Inside Child class\n"
     ]
    }
   ],
   "source": [
    "\n",
    "# method overriding\n",
    "\n",
    "\n",
    "# Defining parent class\n",
    "class Parent():\n",
    "    # Constructor\n",
    "    def __init__(self):\n",
    "        self.value = \"Inside Parent class\"\n",
    "\n",
    "    # Parent's show method\n",
    "    def show(self):\n",
    "        print(self.value)\n",
    "\n",
    "# Defining child class\n",
    "class Child(Parent):\n",
    "\n",
    "    # Constructor\n",
    "    def __init__(self):\n",
    "        self.value = \"Inside Child class\"\n",
    "\n",
    "# Child's show method\n",
    "    def show(self):\n",
    "        print(self.value)\n",
    "\n",
    "\n",
    "\n",
    "obj1 = Parent()\n",
    "obj2 = Child()\n",
    "\n",
    "obj1.show()\n",
    "obj2.show()\n"
   ]
  },
  {
   "cell_type": "code",
   "execution_count": null,
   "id": "43e2b8d7",
   "metadata": {},
   "outputs": [],
   "source": []
  }
 ],
 "metadata": {
  "kernelspec": {
   "display_name": "Python 3 (ipykernel)",
   "language": "python",
   "name": "python3"
  },
  "language_info": {
   "codemirror_mode": {
    "name": "ipython",
    "version": 3
   },
   "file_extension": ".py",
   "mimetype": "text/x-python",
   "name": "python",
   "nbconvert_exporter": "python",
   "pygments_lexer": "ipython3",
   "version": "3.9.13"
  }
 },
 "nbformat": 4,
 "nbformat_minor": 5
}
