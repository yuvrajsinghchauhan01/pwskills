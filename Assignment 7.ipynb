{
 "cells": [
  {
   "cell_type": "code",
   "execution_count": null,
   "id": "55d7ade7",
   "metadata": {},
   "outputs": [],
   "source": [
    "'''\n",
    "Q1. What is Abstraction in OOps? Explain with an example.\n",
    "'''"
   ]
  },
  {
   "cell_type": "markdown",
   "id": "bc91fa5d",
   "metadata": {},
   "source": [
    "`Abstraction`: Abstraction is the process of representing complex real-world entities as simplified models in software. It involves capturing only the essential characteristics and hiding the unnecessary details. Abstraction allows us to focus on the relevant aspects of an object or system while ignoring the implementation specifics. In Python, abstraction is achieved through classes, where the internal workings are hidden, and only the necessary interfaces are exposed."
   ]
  },
  {
   "cell_type": "code",
   "execution_count": 1,
   "id": "6af71ee3",
   "metadata": {},
   "outputs": [
    {
     "name": "stdout",
     "output_type": "stream",
     "text": [
      "Woof!\n",
      "Meow!\n"
     ]
    }
   ],
   "source": [
    "from abc import ABC, abstractmethod\n",
    "\n",
    "class Animal(ABC):\n",
    "    def __init__(self, name):\n",
    "        self.name = name\n",
    "    \n",
    "    @abstractmethod\n",
    "    def make_sound(self):\n",
    "        pass\n",
    "\n",
    "class Dog(Animal):\n",
    "    def make_sound(self):\n",
    "        print(\"Woof!\")\n",
    "\n",
    "class Cat(Animal):\n",
    "    def make_sound(self):\n",
    "        print(\"Meow!\")\n",
    "\n",
    "# Creating objects of the Dog and Cat classes\n",
    "dog = Dog(\"Buddy\")\n",
    "cat = Cat(\"Whiskers\")\n",
    "\n",
    "dog.make_sound()   # Output: Woof!\n",
    "cat.make_sound()   # Output: Meow!\n"
   ]
  },
  {
   "cell_type": "code",
   "execution_count": null,
   "id": "c5693e40",
   "metadata": {},
   "outputs": [],
   "source": [
    "'''\n",
    "Q2. Differentiate between Abstraction and Encapsulation. Explain with an example.\n",
    "'''"
   ]
  },
  {
   "cell_type": "markdown",
   "id": "86f482a3",
   "metadata": {},
   "source": [
    "Abstraction:\n",
    "\n",
    "1. Abstraction focuses on representing the essential features of an object while hiding unnecessary details. It deals with creating simplified models or representations of real-world entities.\n",
    "\n",
    "2. It allows us to create abstract classes or interfaces that define the common attributes and behaviors of a group of objects without providing the implementation details.\n",
    "\n",
    "3. Abstraction helps in managing complexity, promoting code modularity, and providing a high-level view of objects and their interactions.\n"
   ]
  },
  {
   "cell_type": "code",
   "execution_count": 2,
   "id": "703bc02d",
   "metadata": {},
   "outputs": [
    {
     "name": "stdout",
     "output_type": "stream",
     "text": [
      "78.5\n",
      "24\n"
     ]
    }
   ],
   "source": [
    "from abc import ABC, abstractmethod\n",
    "\n",
    "class Shape(ABC):\n",
    "    @abstractmethod\n",
    "    def calculate_area(self):\n",
    "        pass\n",
    "\n",
    "class Circle(Shape):\n",
    "    def __init__(self, radius):\n",
    "        self.radius = radius\n",
    "    \n",
    "    def calculate_area(self):\n",
    "        return 3.14 * self.radius * self.radius\n",
    "\n",
    "class Rectangle(Shape):\n",
    "    def __init__(self, length, width):\n",
    "        self.length = length\n",
    "        self.width = width\n",
    "    \n",
    "    def calculate_area(self):\n",
    "        return self.length * self.width\n",
    "\n",
    "# Creating objects of Circle and Rectangle\n",
    "circle = Circle(5)\n",
    "rectangle = Rectangle(4, 6)\n",
    "\n",
    "print(circle.calculate_area())     # Output: 78.5\n",
    "print(rectangle.calculate_area())  # Output: 24\n"
   ]
  },
  {
   "cell_type": "markdown",
   "id": "85eb9478",
   "metadata": {},
   "source": [
    "Encapsulation:\n",
    "\n",
    "1. Encapsulation focuses on bundling data and related behaviors (methods) into a single unit called a class. It allows us to control the access to the data and protect it from external interference.\n",
    "\n",
    "2. Encapsulation involves the use of access modifiers (e.g., public, private, protected) to define the visibility and accessibility of class members (attributes and methods).\n",
    "\n",
    "3. Encapsulation helps in achieving data hiding, ensuring data integrity, and providing a clear interface for interacting with the object."
   ]
  },
  {
   "cell_type": "code",
   "execution_count": 3,
   "id": "732323a3",
   "metadata": {},
   "outputs": [
    {
     "name": "stdout",
     "output_type": "stream",
     "text": [
      "1300\n"
     ]
    }
   ],
   "source": [
    "class BankAccount:\n",
    "    def __init__(self, account_number, balance):\n",
    "        self.__account_number = account_number\n",
    "        self.__balance = balance\n",
    "    \n",
    "    def deposit(self, amount):\n",
    "        self.__balance += amount\n",
    "    \n",
    "    def withdraw(self, amount):\n",
    "        if self.__balance >= amount:\n",
    "            self.__balance -= amount\n",
    "        else:\n",
    "            print(\"Insufficient balance.\")\n",
    "    \n",
    "    def get_balance(self):\n",
    "        return self.__balance\n",
    "\n",
    "# Creating an object of BankAccount\n",
    "account = BankAccount(\"1234567890\", 1000)\n",
    "\n",
    "account.deposit(500)\n",
    "account.withdraw(200)\n",
    "print(account.get_balance())   # Output: 1300\n"
   ]
  },
  {
   "cell_type": "code",
   "execution_count": null,
   "id": "ed79929a",
   "metadata": {},
   "outputs": [],
   "source": [
    "'''\n",
    "Q3. What is abc module in python? Why is it used?\n",
    "'''"
   ]
  },
  {
   "cell_type": "markdown",
   "id": "aadfeb20",
   "metadata": {},
   "source": [
    "The `abc` module in Python stands for `\"Abstract Base Classes.\"` It provides infrastructure for defining abstract base classes, which are classes that cannot be instantiated directly but serve as a blueprint for other classes. The abc module is part of the Python standard library.\n",
    "\n",
    "The `abc` module is used to implement and enforce abstraction in object-oriented programming. It allows you to define abstract classes and abstract methods, which are methods without an implementation in the abstract class itself. Abstract base classes serve as a way to define common interfaces or contracts for a group of related classes."
   ]
  },
  {
   "cell_type": "code",
   "execution_count": null,
   "id": "522acca8",
   "metadata": {},
   "outputs": [],
   "source": [
    "'''\n",
    "Q4. How can we achieve data abstraction?\n",
    "'''"
   ]
  },
  {
   "cell_type": "markdown",
   "id": "2f926417",
   "metadata": {},
   "source": [
    "Here are the steps to achieve data abstraction:\n",
    "\n",
    "1. `Define a Class`: Create a class that represents the abstract concept or entity you want to   model. The class should include attributes (data) and methods (behaviors) that define the essential features of the entity.\n",
    "\n",
    "\n",
    "2. `Hide Implementation Details`: Encapsulate the data within the class by making the attributes private or using naming conventions to indicate that they are intended to be private. This hides the internal details of how the data is stored or manipulated.\n",
    "\n",
    "\n",
    "3. `Provide Public Interfaces`: Define public methods (also known as accessors or getters) that allow external code to interact with the object and access or modify its data. These methods provide a controlled interface to the internal data, ensuring that data is accessed or modified in a consistent and controlled manner.\n",
    "\n",
    "\n",
    "4. `Access Data Through Methods`: Encourage the use of these public methods to access or modify the data rather than directly accessing the private attributes. This allows the class to enforce any necessary validation, perform additional operations, or maintain data consistency before exposing it to the outside world."
   ]
  },
  {
   "cell_type": "code",
   "execution_count": 4,
   "id": "e8a8b874",
   "metadata": {},
   "outputs": [
    {
     "name": "stdout",
     "output_type": "stream",
     "text": [
      "1300\n"
     ]
    }
   ],
   "source": [
    "class BankAccount:\n",
    "    def __init__(self, account_number, balance):\n",
    "        self.__account_number = account_number\n",
    "        self.__balance = balance\n",
    "    \n",
    "    def deposit(self, amount):\n",
    "        self.__balance += amount\n",
    "    \n",
    "    def withdraw(self, amount):\n",
    "        if self.__balance >= amount:\n",
    "            self.__balance -= amount\n",
    "        else:\n",
    "            print(\"Insufficient balance.\")\n",
    "    \n",
    "    def get_balance(self):\n",
    "        return self.__balance\n",
    "\n",
    "# Creating an object of BankAccount\n",
    "account = BankAccount(\"1234567890\", 1000)\n",
    "\n",
    "account.deposit(500)\n",
    "account.withdraw(200)\n",
    "print(account.get_balance())   # Output: 1300\n"
   ]
  },
  {
   "cell_type": "code",
   "execution_count": null,
   "id": "2571dcb0",
   "metadata": {},
   "outputs": [],
   "source": [
    "'''\n",
    "Q5. Can we create an instance of an abstract class? Explain your answer.\n",
    "'''"
   ]
  },
  {
   "cell_type": "markdown",
   "id": "f3624501",
   "metadata": {},
   "source": [
    "No, we cannot create an instance of an abstract class in Python. Abstract classes are meant to serve as blueprints or templates for other classes to inherit from. They are designed to be subclassed and provide a common interface or contract for a group of related classes.\n",
    "\n",
    "The purpose of an abstract class is to define the structure, attributes, and methods that subclasses should have. It may contain one or more abstract methods, which are methods without an implementation. Subclasses derived from an abstract class must provide implementations for all the abstract methods defined in the abstract class.\n",
    "\n",
    "Attempting to create an instance of an abstract class directly would raise a TypeError because abstract classes cannot be instantiated. This is enforced by the Python interpreter to prevent objects from being created that do not adhere to the complete contract defined by the abstract class."
   ]
  },
  {
   "cell_type": "code",
   "execution_count": 5,
   "id": "6d63cfb8",
   "metadata": {},
   "outputs": [
    {
     "ename": "TypeError",
     "evalue": "Can't instantiate abstract class AbstractClass with abstract method abstract_method",
     "output_type": "error",
     "traceback": [
      "\u001b[0;31m---------------------------------------------------------------------------\u001b[0m",
      "\u001b[0;31mTypeError\u001b[0m                                 Traceback (most recent call last)",
      "\u001b[0;32m/var/folders/8k/tvnfcwc53mb3rz1r77c6h6sr0000gn/T/ipykernel_47384/318499690.py\u001b[0m in \u001b[0;36m<module>\u001b[0;34m\u001b[0m\n\u001b[1;32m      7\u001b[0m \u001b[0;34m\u001b[0m\u001b[0m\n\u001b[1;32m      8\u001b[0m \u001b[0;31m# Attempt to create an instance of the abstract class\u001b[0m\u001b[0;34m\u001b[0m\u001b[0;34m\u001b[0m\u001b[0m\n\u001b[0;32m----> 9\u001b[0;31m \u001b[0mobj\u001b[0m \u001b[0;34m=\u001b[0m \u001b[0mAbstractClass\u001b[0m\u001b[0;34m(\u001b[0m\u001b[0;34m)\u001b[0m\u001b[0;34m\u001b[0m\u001b[0;34m\u001b[0m\u001b[0m\n\u001b[0m",
      "\u001b[0;31mTypeError\u001b[0m: Can't instantiate abstract class AbstractClass with abstract method abstract_method"
     ]
    }
   ],
   "source": [
    "from abc import ABC, abstractmethod\n",
    "\n",
    "class AbstractClass(ABC):\n",
    "    @abstractmethod\n",
    "    def abstract_method(self):\n",
    "        pass\n",
    "\n",
    "# Attempt to create an instance of the abstract class\n",
    "obj = AbstractClass() \n"
   ]
  },
  {
   "cell_type": "code",
   "execution_count": null,
   "id": "c22ab7be",
   "metadata": {},
   "outputs": [],
   "source": []
  }
 ],
 "metadata": {
  "kernelspec": {
   "display_name": "Python 3 (ipykernel)",
   "language": "python",
   "name": "python3"
  },
  "language_info": {
   "codemirror_mode": {
    "name": "ipython",
    "version": 3
   },
   "file_extension": ".py",
   "mimetype": "text/x-python",
   "name": "python",
   "nbconvert_exporter": "python",
   "pygments_lexer": "ipython3",
   "version": "3.9.13"
  }
 },
 "nbformat": 4,
 "nbformat_minor": 5
}
