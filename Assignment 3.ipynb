{
 "cells": [
  {
   "cell_type": "code",
   "execution_count": null,
   "id": "114ee871",
   "metadata": {},
   "outputs": [],
   "source": [
    "'''\n",
    "Q1. Which keyword is used to create a function?\n",
    "Create a function to return a list of odd numbers in the  range of 1 to 25.\n",
    "'''"
   ]
  },
  {
   "cell_type": "markdown",
   "id": "1e0101ad",
   "metadata": {},
   "source": [
    "'def' keyword is used to create a function"
   ]
  },
  {
   "cell_type": "code",
   "execution_count": 1,
   "id": "df1c65d9",
   "metadata": {},
   "outputs": [],
   "source": [
    "def odd_num_list():\n",
    "    lst = []\n",
    "    for num in range(25):\n",
    "        if num%2 !=0:\n",
    "            lst.append(num)\n",
    "    print(lst)"
   ]
  },
  {
   "cell_type": "code",
   "execution_count": 2,
   "id": "b7ac9495",
   "metadata": {},
   "outputs": [
    {
     "name": "stdout",
     "output_type": "stream",
     "text": [
      "[1, 3, 5, 7, 9, 11, 13, 15, 17, 19, 21, 23]\n"
     ]
    }
   ],
   "source": [
    "odd_num_list()"
   ]
  },
  {
   "cell_type": "code",
   "execution_count": null,
   "id": "bb416aa2",
   "metadata": {},
   "outputs": [],
   "source": [
    "'''\n",
    "Q2. Why *args and **kwargs is used in some functions? \n",
    "Create a function each for *args and **kwargs  to demonstrate their use. \n",
    "'''"
   ]
  },
  {
   "cell_type": "markdown",
   "id": "82ef72d8",
   "metadata": {},
   "source": [
    "# *args\n",
    "\n",
    "they are used to take n number of parameter in a function.\n",
    "they are in tuple format.\n",
    "\n",
    "# **kwargs\n",
    "\n",
    "they are used to take n number of key and value pairs.\n",
    "they are in dict format."
   ]
  },
  {
   "cell_type": "code",
   "execution_count": 5,
   "id": "fa319ed2",
   "metadata": {},
   "outputs": [],
   "source": [
    "# *args\n",
    "def add_num(*args):\n",
    "    return sum(args)"
   ]
  },
  {
   "cell_type": "code",
   "execution_count": 6,
   "id": "f8cf894e",
   "metadata": {},
   "outputs": [
    {
     "name": "stdout",
     "output_type": "stream",
     "text": [
      "10\n"
     ]
    }
   ],
   "source": [
    "print(add_num(1,2,3,4))"
   ]
  },
  {
   "cell_type": "code",
   "execution_count": 17,
   "id": "53cbd26c",
   "metadata": {},
   "outputs": [],
   "source": [
    "# **kwargs\n",
    "def show_values(**kwargs):\n",
    "    return kwargs.values()\n",
    "    \n",
    "    "
   ]
  },
  {
   "cell_type": "code",
   "execution_count": 18,
   "id": "6891da97",
   "metadata": {},
   "outputs": [
    {
     "name": "stdout",
     "output_type": "stream",
     "text": [
      "dict_values(['apple', 'pumpkin'])\n"
     ]
    }
   ],
   "source": [
    "print(show_values(fruit='apple', vegetable = 'pumpkin'))"
   ]
  },
  {
   "cell_type": "code",
   "execution_count": null,
   "id": "15adc14a",
   "metadata": {},
   "outputs": [],
   "source": [
    "'''\n",
    "Q3. What is an iterator in python? Name the method used to initialise the iterator\n",
    "    object and the method  used for iteration. Use these methods to\n",
    "    print the first five elements of the given list [2, 4, 6, 8, 10, 12, 14,  16, 18, 20]. \n",
    "'''"
   ]
  },
  {
   "cell_type": "markdown",
   "id": "1d85d0a2",
   "metadata": {},
   "source": [
    "iterator is an object that allows you to iterate over collection data such list,\n",
    " tuples, sets and strings.\n",
    "\n",
    "'iter' method is used to initialise over iterables."
   ]
  },
  {
   "cell_type": "code",
   "execution_count": 23,
   "id": "36ee2fa2",
   "metadata": {},
   "outputs": [],
   "source": [
    "def first_five():\n",
    "    lst = [2, 4, 6, 8, 10, 12, 14,  16, 18, 20]\n",
    "    for i in range(5):\n",
    "        yield lst[i]\n",
    "        "
   ]
  },
  {
   "cell_type": "code",
   "execution_count": 25,
   "id": "b3e623b4",
   "metadata": {},
   "outputs": [
    {
     "data": {
      "text/plain": [
       "<generator object first_five at 0x7f917a5216d0>"
      ]
     },
     "execution_count": 25,
     "metadata": {},
     "output_type": "execute_result"
    }
   ],
   "source": [
    "first_five()"
   ]
  },
  {
   "cell_type": "code",
   "execution_count": 24,
   "id": "a91303ef",
   "metadata": {},
   "outputs": [
    {
     "name": "stdout",
     "output_type": "stream",
     "text": [
      "[2, 4, 6, 8, 10]\n"
     ]
    }
   ],
   "source": [
    "print(list(first_five()))"
   ]
  },
  {
   "cell_type": "code",
   "execution_count": null,
   "id": "8b449d1a",
   "metadata": {},
   "outputs": [],
   "source": [
    "'''\n",
    "Q4. What is a generator function in python?\n",
    "    Why yield keyword is used? \n",
    "    Give an example of a generator  function. \n",
    "'''"
   ]
  },
  {
   "cell_type": "markdown",
   "id": "6deeda42",
   "metadata": {},
   "source": [
    "a generator is a function that returns an iterator that produces a sequence of values when iterated over. Generators are useful when we want to produce a large sequence of values, but we don't want to store all of them in memory at once.<br>\n",
    "\n",
    "The yield keyword in Python controls the flow of a generator function. This is similar to a return statement used for returning values in Python."
   ]
  },
  {
   "cell_type": "code",
   "execution_count": 26,
   "id": "8e3797fc",
   "metadata": {},
   "outputs": [
    {
     "data": {
      "text/plain": [
       "range(0, 5)"
      ]
     },
     "execution_count": 26,
     "metadata": {},
     "output_type": "execute_result"
    }
   ],
   "source": [
    "#example\n",
    "range(0,5)"
   ]
  },
  {
   "cell_type": "code",
   "execution_count": 34,
   "id": "95cfc49d",
   "metadata": {},
   "outputs": [
    {
     "name": "stdout",
     "output_type": "stream",
     "text": [
      "0 1 2 3 4 "
     ]
    }
   ],
   "source": [
    "for i in range(5):\n",
    "    print(i,end=' ')"
   ]
  },
  {
   "cell_type": "code",
   "execution_count": null,
   "id": "53574859",
   "metadata": {},
   "outputs": [],
   "source": [
    "'''\n",
    "Q5. Create a generator function for prime numbers less than 1000.\n",
    "Use the next() method to print the  first 20 prime numbers. \n",
    "\n",
    "'''"
   ]
  },
  {
   "cell_type": "code",
   "execution_count": 17,
   "id": "4c972c73",
   "metadata": {},
   "outputs": [
    {
     "name": "stdout",
     "output_type": "stream",
     "text": [
      "2\n",
      "3\n",
      "5\n",
      "7\n",
      "11\n",
      "13\n",
      "17\n",
      "19\n",
      "23\n",
      "29\n",
      "31\n",
      "37\n",
      "41\n",
      "43\n",
      "47\n",
      "53\n",
      "59\n",
      "61\n",
      "67\n",
      "71\n"
     ]
    }
   ],
   "source": [
    "def generate_primes():\n",
    "    # Generator function to generate prime numbers\n",
    "    yield 2  # 2 is the first prime number\n",
    "    primes = [2]  # List to store prime numbers found so far\n",
    "\n",
    "    # Start checking numbers from 3\n",
    "    num = 3\n",
    "    while num < 1000:\n",
    "        is_prime = True\n",
    "        # Check if the number is divisible by any prime number found so far\n",
    "        for prime in primes:\n",
    "            if num % prime == 0:\n",
    "                is_prime = False\n",
    "                break\n",
    "        # If the number is not divisible by any prime number, it is prime\n",
    "        if is_prime:\n",
    "            yield num\n",
    "            primes.append(num)\n",
    "        # Move to the next number\n",
    "        num += 2\n",
    "\n",
    "# Create the generator object\n",
    "prime_generator = generate_primes()\n",
    "\n",
    "# Print the first 20 prime numbers using the next() method\n",
    "for _ in range(20):\n",
    "    prime = next(prime_generator)\n",
    "    print(prime)\n"
   ]
  },
  {
   "cell_type": "code",
   "execution_count": null,
   "id": "7e9a6093",
   "metadata": {},
   "outputs": [],
   "source": [
    "'''\n",
    "Q6. Write a python program to print the first 10 Fibonacci numbers using a while loop. \n",
    "'''"
   ]
  },
  {
   "cell_type": "code",
   "execution_count": 1,
   "id": "6a300dbb",
   "metadata": {},
   "outputs": [
    {
     "name": "stdout",
     "output_type": "stream",
     "text": [
      "0\n",
      "1\n",
      "1\n",
      "2\n",
      "3\n",
      "5\n",
      "8\n",
      "13\n",
      "21\n",
      "34\n"
     ]
    }
   ],
   "source": [
    "# Initialize the first two numbers in the sequence\n",
    "a, b = 0, 1\n",
    "count = 0\n",
    "\n",
    "# Print the first 10 Fibonacci numbers\n",
    "while count < 10:\n",
    "    print(a)\n",
    "    # Calculate the next Fibonacci number\n",
    "    a, b = b, a + b\n",
    "    count += 1\n",
    "    \n",
    "    "
   ]
  },
  {
   "cell_type": "code",
   "execution_count": null,
   "id": "bb1189ee",
   "metadata": {},
   "outputs": [],
   "source": [
    "'''\n",
    "Q7. Write a List Comprehension to iterate through the given string: ‘pwskills’.\n",
    "Expected output: ['p', 'w', 's', 'k', 'i', 'l', 'l', 's']\n",
    "'''"
   ]
  },
  {
   "cell_type": "code",
   "execution_count": 2,
   "id": "7648840a",
   "metadata": {},
   "outputs": [],
   "source": [
    "name = 'pwskills'\n",
    "lst = [letter for letter in name]"
   ]
  },
  {
   "cell_type": "code",
   "execution_count": 3,
   "id": "accc2f0e",
   "metadata": {},
   "outputs": [
    {
     "data": {
      "text/plain": [
       "['p', 'w', 's', 'k', 'i', 'l', 'l', 's']"
      ]
     },
     "execution_count": 3,
     "metadata": {},
     "output_type": "execute_result"
    }
   ],
   "source": [
    "lst"
   ]
  },
  {
   "cell_type": "code",
   "execution_count": null,
   "id": "8a27b265",
   "metadata": {},
   "outputs": [],
   "source": [
    "'''\n",
    "Q8. Write a python program to check whether\n",
    "a given number is Palindrome or not using a while loop.\n",
    "'''"
   ]
  },
  {
   "cell_type": "code",
   "execution_count": 13,
   "id": "ce15ea80",
   "metadata": {},
   "outputs": [
    {
     "name": "stdout",
     "output_type": "stream",
     "text": [
      "Enter a number: 101\n",
      "it is a palindrome\n"
     ]
    }
   ],
   "source": [
    "num = int(input('Enter a number: '))\n",
    "num_copy = num\n",
    "reverse = 0\n",
    "while num !=0:\n",
    "    rem = num %10\n",
    "    reverse = reverse * 10 + rem\n",
    "    num = num //10\n",
    "\n",
    "if num_copy == reverse:\n",
    "    print('it is a palindrome')\n",
    "else:\n",
    "    print('not a palindrome')\n"
   ]
  },
  {
   "cell_type": "code",
   "execution_count": 14,
   "id": "c04ac4ce",
   "metadata": {},
   "outputs": [
    {
     "data": {
      "text/plain": [
       "'\\nQ9. Write a code to print odd numbers from 1 to 100 using list comprehension.\\n'"
      ]
     },
     "execution_count": 14,
     "metadata": {},
     "output_type": "execute_result"
    }
   ],
   "source": [
    "'''\n",
    "Q9. Write a code to print odd numbers from 1 to 100 using list comprehension.\n",
    "'''"
   ]
  },
  {
   "cell_type": "code",
   "execution_count": 15,
   "id": "7550a3df",
   "metadata": {},
   "outputs": [],
   "source": [
    "lst = [i for i in range(100) if i%2 !=0]"
   ]
  },
  {
   "cell_type": "code",
   "execution_count": 16,
   "id": "cb7e1a02",
   "metadata": {},
   "outputs": [
    {
     "data": {
      "text/plain": [
       "[1,\n",
       " 3,\n",
       " 5,\n",
       " 7,\n",
       " 9,\n",
       " 11,\n",
       " 13,\n",
       " 15,\n",
       " 17,\n",
       " 19,\n",
       " 21,\n",
       " 23,\n",
       " 25,\n",
       " 27,\n",
       " 29,\n",
       " 31,\n",
       " 33,\n",
       " 35,\n",
       " 37,\n",
       " 39,\n",
       " 41,\n",
       " 43,\n",
       " 45,\n",
       " 47,\n",
       " 49,\n",
       " 51,\n",
       " 53,\n",
       " 55,\n",
       " 57,\n",
       " 59,\n",
       " 61,\n",
       " 63,\n",
       " 65,\n",
       " 67,\n",
       " 69,\n",
       " 71,\n",
       " 73,\n",
       " 75,\n",
       " 77,\n",
       " 79,\n",
       " 81,\n",
       " 83,\n",
       " 85,\n",
       " 87,\n",
       " 89,\n",
       " 91,\n",
       " 93,\n",
       " 95,\n",
       " 97,\n",
       " 99]"
      ]
     },
     "execution_count": 16,
     "metadata": {},
     "output_type": "execute_result"
    }
   ],
   "source": [
    "lst"
   ]
  },
  {
   "cell_type": "code",
   "execution_count": null,
   "id": "48a0a1c1",
   "metadata": {},
   "outputs": [],
   "source": []
  }
 ],
 "metadata": {
  "kernelspec": {
   "display_name": "Python 3 (ipykernel)",
   "language": "python",
   "name": "python3"
  },
  "language_info": {
   "codemirror_mode": {
    "name": "ipython",
    "version": 3
   },
   "file_extension": ".py",
   "mimetype": "text/x-python",
   "name": "python",
   "nbconvert_exporter": "python",
   "pygments_lexer": "ipython3",
   "version": "3.9.13"
  }
 },
 "nbformat": 4,
 "nbformat_minor": 5
}
