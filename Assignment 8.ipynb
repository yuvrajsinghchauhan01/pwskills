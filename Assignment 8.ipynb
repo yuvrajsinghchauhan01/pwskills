{
 "cells": [
  {
   "cell_type": "code",
   "execution_count": null,
   "id": "688e785e",
   "metadata": {},
   "outputs": [],
   "source": [
    "'''\n",
    "Q1. What is an Exception in python? Write difference between Exception and syntax error.\n",
    "'''"
   ]
  },
  {
   "cell_type": "markdown",
   "id": "a3e96bd6",
   "metadata": {},
   "source": [
    "An `exception` is an event that happens when something unexpected occurs during the execution of a program. It's like a signal that tells us that something went wrong while the program was running.\n",
    "\n",
    "Now, let's talk about the difference between an exception and a syntax error:\n",
    "\n",
    "`Exception`: An exception occurs when there is an error during the execution of a program, even if the code is written correctly. It happens when something unexpected or abnormal happens, such as dividing a number by zero, trying to access a file that doesn't exist, or encountering a network error. When an exception occurs, the program stops running unless we handle the exception using special code.\n",
    "\n",
    "`Syntax Error`: A syntax error, on the other hand, happens when the code itself is not written correctly according to the rules of the programming language. It occurs when there are mistakes in the way the code is structured or written, like missing parentheses, using incorrect indentation, or misspelling a keyword. These errors prevent the program from running at all because the code doesn't make sense to the computer.\n",
    "\n",
    "To summarize, exceptions happen when something unexpected occurs during program execution, while syntax errors occur when the code itself is not written correctly. Exceptions can be handled using special code, while syntax errors need to be fixed before the program can run properly."
   ]
  },
  {
   "cell_type": "code",
   "execution_count": null,
   "id": "d6dae623",
   "metadata": {},
   "outputs": [],
   "source": [
    "'''\n",
    "Q2. What happens when an exception is not handled?  Explain with an example.\n",
    "'''"
   ]
  },
  {
   "cell_type": "markdown",
   "id": "8d3633de",
   "metadata": {},
   "source": [
    "When an exception is not handled in a program, it leads to what we call an \"unhandled exception.\" In simple terms, it means that the program encounters an error but doesn't know what to do about it. As a result, the program typically stops running and displays an error message, making it challenging to continue with the program's execution.\n",
    "\n",
    "Let's take an example to illustrate this:"
   ]
  },
  {
   "cell_type": "code",
   "execution_count": 1,
   "id": "416c8756",
   "metadata": {},
   "outputs": [
    {
     "ename": "ZeroDivisionError",
     "evalue": "division by zero",
     "output_type": "error",
     "traceback": [
      "\u001b[0;31m---------------------------------------------------------------------------\u001b[0m",
      "\u001b[0;31mZeroDivisionError\u001b[0m                         Traceback (most recent call last)",
      "\u001b[0;32m/var/folders/8k/tvnfcwc53mb3rz1r77c6h6sr0000gn/T/ipykernel_82048/2830910723.py\u001b[0m in \u001b[0;36m<module>\u001b[0;34m\u001b[0m\n\u001b[1;32m      2\u001b[0m \u001b[0mnum2\u001b[0m \u001b[0;34m=\u001b[0m \u001b[0;36m0\u001b[0m\u001b[0;34m\u001b[0m\u001b[0;34m\u001b[0m\u001b[0m\n\u001b[1;32m      3\u001b[0m \u001b[0;34m\u001b[0m\u001b[0m\n\u001b[0;32m----> 4\u001b[0;31m \u001b[0mresult\u001b[0m \u001b[0;34m=\u001b[0m \u001b[0mnum1\u001b[0m \u001b[0;34m/\u001b[0m \u001b[0mnum2\u001b[0m\u001b[0;34m\u001b[0m\u001b[0;34m\u001b[0m\u001b[0m\n\u001b[0m\u001b[1;32m      5\u001b[0m \u001b[0;34m\u001b[0m\u001b[0m\n\u001b[1;32m      6\u001b[0m \u001b[0mprint\u001b[0m\u001b[0;34m(\u001b[0m\u001b[0;34m\"The result is:\"\u001b[0m\u001b[0;34m,\u001b[0m \u001b[0mresult\u001b[0m\u001b[0;34m)\u001b[0m\u001b[0;34m\u001b[0m\u001b[0;34m\u001b[0m\u001b[0m\n",
      "\u001b[0;31mZeroDivisionError\u001b[0m: division by zero"
     ]
    }
   ],
   "source": [
    "# When an exception is not handled \n",
    "num1 = 10\n",
    "num2 = 0\n",
    "\n",
    "result = num1 / num2\n",
    "\n",
    "print(\"The result is:\", result)\n"
   ]
  },
  {
   "cell_type": "code",
   "execution_count": null,
   "id": "499ac646",
   "metadata": {},
   "outputs": [],
   "source": [
    "'''\n",
    "Q3. Which python statements are used to catch and handle exception? Explain with an Example.\n",
    "'''"
   ]
  },
  {
   "cell_type": "markdown",
   "id": "94185b84",
   "metadata": {},
   "source": [
    "The `try` and `except` statements are used to catch and handle exceptions. These statements allow us to write code that can potentially raise exceptions and handle them gracefully, preventing the program from crashing."
   ]
  },
  {
   "cell_type": "code",
   "execution_count": 3,
   "id": "d49fd31c",
   "metadata": {},
   "outputs": [
    {
     "name": "stdout",
     "output_type": "stream",
     "text": [
      "Enter a number: 10\n",
      "Enter another number: 0\n",
      "Error: Cannot divide by zero.\n"
     ]
    }
   ],
   "source": [
    " try:\n",
    "    num1 = int(input(\"Enter a number: \"))\n",
    "    num2 = int(input(\"Enter another number: \"))\n",
    "\n",
    "    result = num1 / num2\n",
    "\n",
    "    print(\"The result is:\", result)\n",
    "\n",
    "except ValueError:\n",
    "    print(\"Error: Invalid input. Please enter a valid number.\")\n",
    "\n",
    "except ZeroDivisionError:\n",
    "    print(\"Error: Cannot divide by zero.\")\n"
   ]
  },
  {
   "cell_type": "code",
   "execution_count": null,
   "id": "e338a7c4",
   "metadata": {},
   "outputs": [],
   "source": [
    "'''\n",
    "Q4. Explain with an example:\n",
    "    1. try and else\n",
    "    2. finally\n",
    "    3. raise\n",
    "'''"
   ]
  },
  {
   "cell_type": "markdown",
   "id": "dcde0117",
   "metadata": {},
   "source": [
    "1. <b>try and else:<b><br>\n",
    "\n",
    "The `try` statement is used to enclose a block of code that might raise exceptions.\n",
    "The `else` block is optional and executes only if no exceptions are raised within the try block."
   ]
  },
  {
   "cell_type": "code",
   "execution_count": 4,
   "id": "cad2ee49",
   "metadata": {},
   "outputs": [
    {
     "name": "stdout",
     "output_type": "stream",
     "text": [
      "Enter a number: 10\n",
      "Enter another number: 2\n",
      "The result is: 5.0\n"
     ]
    }
   ],
   "source": [
    "try:\n",
    "    num1 = int(input(\"Enter a number: \"))\n",
    "    num2 = int(input(\"Enter another number: \"))\n",
    "\n",
    "    result = num1 / num2\n",
    "\n",
    "except ValueError:\n",
    "    print(\"Error: Invalid input. Please enter a valid number.\")\n",
    "\n",
    "else:\n",
    "    print(\"The result is:\", result)\n"
   ]
  },
  {
   "cell_type": "markdown",
   "id": "d36645ac",
   "metadata": {},
   "source": [
    "2. <b>finally:<b>\n",
    "    \n",
    "The `finally` block is used to define code that should always be executed, regardless of whether an exception was raised or not.\n"
   ]
  },
  {
   "cell_type": "code",
   "execution_count": 12,
   "id": "96476471",
   "metadata": {},
   "outputs": [
    {
     "name": "stdout",
     "output_type": "stream",
     "text": [
      "File closed.\n"
     ]
    }
   ],
   "source": [
    "try:\n",
    "    file = open(\"data.txt\", \"r\")\n",
    "    # Perform some operations on the file\n",
    "\n",
    "except FileNotFoundError:\n",
    "    print(\"Error: File not found.\")\n",
    "\n",
    "finally:\n",
    "    file.close()\n",
    "    print(\"File closed.\")\n"
   ]
  },
  {
   "cell_type": "markdown",
   "id": "9e0a7eba",
   "metadata": {},
   "source": [
    "3. <b>raise:<b>\n",
    "    \n",
    "The `raise` statement is used to explicitly raise an exception. It allows you to generate and handle custom exceptions."
   ]
  },
  {
   "cell_type": "code",
   "execution_count": 7,
   "id": "8fb326ec",
   "metadata": {},
   "outputs": [
    {
     "name": "stdout",
     "output_type": "stream",
     "text": [
      "Error: Cannot calculate square root of a negative number.\n"
     ]
    }
   ],
   "source": [
    "def calculate_square_root(num):\n",
    "    if num < 0:\n",
    "        raise ValueError(\"Error: Cannot calculate square root of a negative number.\")\n",
    "    else:\n",
    "        return num ** 0.5\n",
    "\n",
    "try:\n",
    "    result = calculate_square_root(-9)\n",
    "    print(\"The square root is:\", result)\n",
    "\n",
    "except ValueError as error:\n",
    "    print(error)"
   ]
  },
  {
   "cell_type": "code",
   "execution_count": null,
   "id": "542a965f",
   "metadata": {},
   "outputs": [],
   "source": [
    "'''\n",
    "Q5. What are custom exceptions in python?Why do we need custom exceptions?\n",
    "    Explain with an Example.\n",
    "'''"
   ]
  },
  {
   "cell_type": "markdown",
   "id": "44f172e3",
   "metadata": {},
   "source": [
    "In Python, `custom exceptions` are exceptions that we define ourselves. They allow us to create specific error types tailored to our program's needs. Custom exceptions are useful when we want to differentiate between different error scenarios or provide more specific information about the nature of the exception.\n",
    "\n",
    "We need custom exceptions for several reasons:\n",
    "\n",
    "`Clarity and Readability:` By using custom exceptions, we can make our code more readable and self-explanatory. When an exception is raised, the name of the custom exception can convey the specific error condition, making it easier to understand the code's intent.\n",
    "\n",
    "`Modularity and Reusability:` Custom exceptions provide a way to modularize error handling. We can define a custom exception in one part of our codebase and reuse it throughout our program or even in different projects. This promotes code reuse and maintainability.\n",
    "\n",
    "`Error Hierarchy and Catching Specific Exceptions:` Custom exceptions allow us to create an inheritance hierarchy of exceptions. We can have a base custom exception and derive more specific exceptions from it. This hierarchy enables us to catch different types of exceptions separately and handle them differently based on their specific characteristics.\n",
    "\n",
    "Let's see an example to better understand the use of custom exceptions:"
   ]
  },
  {
   "cell_type": "code",
   "execution_count": 14,
   "id": "0992ef8f",
   "metadata": {},
   "outputs": [
    {
     "name": "stdout",
     "output_type": "stream",
     "text": [
      "Error: Amount cannot be negative.\n",
      "Error: Insufficient funds.\n"
     ]
    }
   ],
   "source": [
    "class WithdrawalError(Exception):\n",
    "    pass\n",
    "\n",
    "class InsufficientFundsError(WithdrawalError):\n",
    "    pass\n",
    "\n",
    "class NegativeAmountError(WithdrawalError):\n",
    "    pass\n",
    "\n",
    "def withdraw(amount, balance):\n",
    "    try:\n",
    "        if amount < 0:\n",
    "            raise NegativeAmountError(\"Amount cannot be negative.\")\n",
    "        if amount > balance:\n",
    "            raise InsufficientFundsError(\"Insufficient funds.\")\n",
    "        # Process the withdrawal here\n",
    "        print(\"Withdrawal successful.\")\n",
    "    except WithdrawalError as e:\n",
    "        print(\"Error:\", str(e))\n",
    "\n",
    "# Example usage\n",
    "balance = 1000\n",
    "withdraw(-200, balance)\n",
    "withdraw(1500, balance)\n"
   ]
  },
  {
   "cell_type": "code",
   "execution_count": null,
   "id": "b0cdff65",
   "metadata": {},
   "outputs": [],
   "source": [
    "'''\n",
    "Q6. Create a custom exception class. Use this class to handle this exception.\n",
    "'''"
   ]
  },
  {
   "cell_type": "code",
   "execution_count": 9,
   "id": "4272e50c",
   "metadata": {},
   "outputs": [
    {
     "name": "stdout",
     "output_type": "stream",
     "text": [
      "Enter an email address: uv2938\n",
      "Error: Invalid email address: uv2938\n"
     ]
    }
   ],
   "source": [
    "class InvalidEmailError(Exception):\n",
    "    pass\n",
    "\n",
    "def validate_email(email):\n",
    "    if \"@\" not in email:\n",
    "        raise InvalidEmailError(\"Invalid email address: \" + email)\n",
    "    else:\n",
    "        print(\"Email validation successful.\")\n",
    "\n",
    "# Example usage\n",
    "email = input(\"Enter an email address: \")\n",
    "\n",
    "try:\n",
    "    validate_email(email)\n",
    "except InvalidEmailError as e:\n",
    "    print(\"Error:\", str(e))"
   ]
  },
  {
   "cell_type": "code",
   "execution_count": null,
   "id": "b9b5d97a",
   "metadata": {},
   "outputs": [],
   "source": []
  }
 ],
 "metadata": {
  "kernelspec": {
   "display_name": "Python 3 (ipykernel)",
   "language": "python",
   "name": "python3"
  },
  "language_info": {
   "codemirror_mode": {
    "name": "ipython",
    "version": 3
   },
   "file_extension": ".py",
   "mimetype": "text/x-python",
   "name": "python",
   "nbconvert_exporter": "python",
   "pygments_lexer": "ipython3",
   "version": "3.9.13"
  }
 },
 "nbformat": 4,
 "nbformat_minor": 5
}
