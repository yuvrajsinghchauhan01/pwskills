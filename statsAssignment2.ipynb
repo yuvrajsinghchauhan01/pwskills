{
 "cells": [
  {
   "cell_type": "markdown",
   "id": "860c25f1",
   "metadata": {},
   "source": [
    "**Q1. What are the three measures of central tendency?**"
   ]
  },
  {
   "cell_type": "markdown",
   "id": "4fabe7c4",
   "metadata": {},
   "source": [
    "- The mean is the average of a set of numbers, calculated by summing all the values and dividing by the total count.\n",
    "\n",
    "\n",
    "- The median is the middle value in a sorted list of numbers. If there is an even number of values, the median is the average of the two middle values.\n",
    "\n",
    "\n",
    "- The mode is the value that appears most frequently in a dataset. It is possible to have multiple modes or no mode at all.\n"
   ]
  },
  {
   "cell_type": "markdown",
   "id": "31cbfb62",
   "metadata": {},
   "source": [
    "**Q2. What is the difference between the mean, median, and mode? How are they used to measure the\n",
    "central tendency of a dataset?**"
   ]
  },
  {
   "cell_type": "markdown",
   "id": "2aaeb8ab",
   "metadata": {},
   "source": [
    "- The mean is the arithmetic average of a set of numbers. It is calculated by summing all the values and dividing by the total count. The mean is sensitive to extreme values and can be influenced by outliers.\n",
    "\n",
    "\n",
    "- The median is the middle value in a sorted list of numbers. It is less affected by extreme values and outliers compared to the mean. The median is useful when the dataset has skewed distribution or contains outliers.\n",
    "\n",
    "\n",
    "- The mode is the value that appears most frequently in a dataset. It is useful for identifying the most common value or category in a dataset. The mode can be used with both numerical and categorical data."
   ]
  },
  {
   "cell_type": "markdown",
   "id": "09e17e9d",
   "metadata": {},
   "source": [
    "**Q3. Measure the three measures of central tendency for the given height data:\n",
    "[178,177,176,177,178.2,178,175,179,180,175,178.9,176.2,177,172.5,178,176.5]**"
   ]
  },
  {
   "cell_type": "code",
   "execution_count": 4,
   "id": "0a77e314",
   "metadata": {},
   "outputs": [
    {
     "data": {
      "text/plain": [
       "177.01875"
      ]
     },
     "execution_count": 4,
     "metadata": {},
     "output_type": "execute_result"
    }
   ],
   "source": [
    "import numpy as np\n",
    "np.mean(np.array([178,177,176,177,178.2,178,175,179,180,175,178.9,176.2,177,172.5,178,176.5]))"
   ]
  },
  {
   "cell_type": "code",
   "execution_count": 5,
   "id": "07ac5cf5",
   "metadata": {},
   "outputs": [
    {
     "data": {
      "text/plain": [
       "177.0"
      ]
     },
     "execution_count": 5,
     "metadata": {},
     "output_type": "execute_result"
    }
   ],
   "source": [
    "np.median(np.array([178,177,176,177,178.2,178,175,179,180,175,178.9,176.2,177,172.5,178,176.5]))"
   ]
  },
  {
   "cell_type": "code",
   "execution_count": 10,
   "id": "491508bb",
   "metadata": {},
   "outputs": [
    {
     "name": "stderr",
     "output_type": "stream",
     "text": [
      "/var/folders/8k/tvnfcwc53mb3rz1r77c6h6sr0000gn/T/ipykernel_70157/1461392980.py:2: FutureWarning: Unlike other reduction functions (e.g. `skew`, `kurtosis`), the default behavior of `mode` typically preserves the axis it acts along. In SciPy 1.11.0, this behavior will change: the default value of `keepdims` will become False, the `axis` over which the statistic is taken will be eliminated, and the value None will no longer be accepted. Set `keepdims` to True or False to avoid this warning.\n",
      "  stats.mode(np.array([178,177,176,177,178.2,178,175,179,180,175,178.9,176.2,177,172.5,178,176.5]))\n"
     ]
    },
    {
     "data": {
      "text/plain": [
       "ModeResult(mode=array([177.]), count=array([3]))"
      ]
     },
     "execution_count": 10,
     "metadata": {},
     "output_type": "execute_result"
    }
   ],
   "source": [
    "from scipy import stats\n",
    "stats.mode(np.array([178,177,176,177,178.2,178,175,179,180,175,178.9,176.2,177,172.5,178,176.5]))"
   ]
  },
  {
   "cell_type": "markdown",
   "id": "d025f17e",
   "metadata": {},
   "source": [
    "**Q4. Find the standard deviation for the given data:\n",
    "[178,177,176,177,178.2,178,175,179,180,175,178.9,176.2,177,172.5,178,176.5]**"
   ]
  },
  {
   "cell_type": "code",
   "execution_count": 11,
   "id": "d6574693",
   "metadata": {},
   "outputs": [
    {
     "data": {
      "text/plain": [
       "1.7885814036548633"
      ]
     },
     "execution_count": 11,
     "metadata": {},
     "output_type": "execute_result"
    }
   ],
   "source": [
    "np.std(np.array([178,177,176,177,178.2,178,175,179,180,175,178.9,176.2,177,172.5,178,176.5]))"
   ]
  },
  {
   "cell_type": "markdown",
   "id": "c8b186b5",
   "metadata": {},
   "source": [
    "**Q5. How are measures of dispersion such as range, variance, and standard deviation used to describe\n",
    "the spread of a dataset? Provide an example.**"
   ]
  },
  {
   "cell_type": "markdown",
   "id": "faf44a06",
   "metadata": {},
   "source": [
    "- Range: The range is the simplest measure of dispersion and represents the difference between the maximum and minimum values in a dataset. It provides a rough estimate of the spread but is sensitive to outliers.<br>\n",
    "\n",
    "\n",
    "- Variance: Variance measures the average squared deviation from the mean. It quantifies how much the values in a dataset vary from the mean. A higher variance indicates greater variability in the data.<br>\n",
    "\n",
    "\n",
    "- Standard Deviation: The standard deviation is the square root of the variance. It provides a measure of dispersion that is in the same units as the original data. A higher standard deviation indicates greater variability in the data.<br>\n",
    "\n",
    "\n",
    "For example, let's consider the following dataset representing the daily temperatures (in degrees Celsius) for a week: 20, 22, 19, 18, 23, 21, 20].\n",
    "\n",
    "- Range: The range is 23 - 18 = 5, indicating that the temperatures vary by 5 degrees Celsius over the week.<br>\n",
    "\n",
    "\n",
    "- Variance: To calculate the variance, we first find the mean: (20 + 22 + 19 + 18 + 23 + 21 + 20) / 7 = 20.14. Then, we calculate the squared deviation from the mean for each value: (20 - 20.14)^2, (22 - 20.14)^2, (19 - 20.14)^2, (18 - 20.14)^2, (23 - 20.14)^2, (21 - 20.14)^2, (20 - 20.14)^2. Summing these squared deviations and dividing by the total count gives us the variance.<br>\n",
    "\n",
    "\n",
    "- Standard Deviation: The standard deviation is the square root of the variance. It provides a measure of dispersion that is in the same units as the original data."
   ]
  },
  {
   "cell_type": "markdown",
   "id": "75b3b5fc",
   "metadata": {},
   "source": [
    "**Q6. What is a Venn diagram?**"
   ]
  },
  {
   "cell_type": "markdown",
   "id": "f2f122f1",
   "metadata": {},
   "source": [
    "A Venn diagram is a visual representation of the relationships between different sets or groups of objects. It consists of overlapping circles or other shapes, with each circle representing a set and the overlapping regions representing the intersection of those sets.\n",
    "\n",
    "Venn diagrams are commonly used to illustrate the similarities and differences between different groups or categories. The overlapping regions show the elements that are common to multiple sets, while the non-overlapping regions represent the elements that are unique to each set.\n",
    "\n",
    "Venn diagrams can be used to analyze and compare data, identify commonalities, and understand the relationships between different entities or concepts. They are widely used in various fields, including mathematics, logic, statistics, and data analysis."
   ]
  },
  {
   "cell_type": "markdown",
   "id": "9d2d0059",
   "metadata": {},
   "source": [
    "**Q7. For the two given sets A = (2,3,4,5,6,7) & B = (0,2,6,8,10). Find:**\n",
    "1. A intersection B\n",
    "2. A Union B"
   ]
  },
  {
   "cell_type": "code",
   "execution_count": 14,
   "id": "44cb8730",
   "metadata": {},
   "outputs": [],
   "source": [
    "A = set([2,3,4,5,6,7])\n",
    "B = set([0,2,6,8,10])"
   ]
  },
  {
   "cell_type": "code",
   "execution_count": 15,
   "id": "353d1c69",
   "metadata": {},
   "outputs": [
    {
     "data": {
      "text/plain": [
       "{2, 6}"
      ]
     },
     "execution_count": 15,
     "metadata": {},
     "output_type": "execute_result"
    }
   ],
   "source": [
    "A.intersection(B)"
   ]
  },
  {
   "cell_type": "code",
   "execution_count": 16,
   "id": "44fab61d",
   "metadata": {},
   "outputs": [
    {
     "data": {
      "text/plain": [
       "{0, 2, 3, 4, 5, 6, 7, 8, 10}"
      ]
     },
     "execution_count": 16,
     "metadata": {},
     "output_type": "execute_result"
    }
   ],
   "source": [
    "A.union(B)"
   ]
  },
  {
   "cell_type": "markdown",
   "id": "3f1b4450",
   "metadata": {},
   "source": [
    "**Q8. What do you understand about skewness in data?**"
   ]
  },
  {
   "cell_type": "markdown",
   "id": "c53615ec",
   "metadata": {},
   "source": [
    "Skewness in data refers to the asymmetry or lack of symmetry in its distribution. It measures the extent to which a dataset deviates from a symmetrical bell-shaped distribution (also known as a normal distribution).\n",
    "\n",
    "Skewness can be classified into three types:\n",
    "\n",
    "1. Positive Skewness: Also known as right-skewed, it occurs when the tail of the distribution extends towards the right side. In a positively skewed distribution, the majority of the data is concentrated on the left side, and the right tail is longer.\n",
    "\n",
    "\n",
    "2. Negative Skewness: Also known as left-skewed, it occurs when the tail of the distribution extends towards the left side. In a negatively skewed distribution, the majority of the data is concentrated on the right side, and the left tail is longer.\n",
    "\n",
    "\n",
    "3. Zero Skewness: A distribution is considered to have zero skewness when it is perfectly symmetrical, with equal frequencies on both sides of the central value.\n",
    "\n",
    "Skewness is an important measure as it provides insights into the shape and characteristics of a dataset. It can impact data analysis and decision-making processes. For example, skewed data may require different statistical techniques or transformations to accurately analyze and interpret the data."
   ]
  },
  {
   "cell_type": "markdown",
   "id": "31d38c0e",
   "metadata": {},
   "source": [
    "**Q9. If a data is right skewed then what will be the position of median with respect to mean?**"
   ]
  },
  {
   "cell_type": "markdown",
   "id": "f3330f7e",
   "metadata": {},
   "source": [
    "If a dataset is right-skewed, the position of the median with respect to the mean will typically be lower than the mean.\n",
    "\n",
    "In a right-skewed distribution, the tail of the distribution extends towards the right side, indicating that there are a few larger values that pull the mean in that direction. As a result, the mean is typically higher than the median.\n",
    "\n",
    "The median, on the other hand, is less affected by extreme values or outliers compared to the mean. It represents the middle value in a sorted dataset. In a right-skewed distribution, the median will be closer to the lower end of the dataset, as it is less influenced by the larger values in the right tail.\n",
    "\n",
    "Therefore, in a right-skewed distribution, the median will generally be lower than the mean."
   ]
  },
  {
   "cell_type": "markdown",
   "id": "7a1ab961",
   "metadata": {},
   "source": [
    "**Q10. Explain the difference between covariance and correlation. How are these measures used in\n",
    "statistical analysis?**"
   ]
  },
  {
   "cell_type": "markdown",
   "id": "d1a89c0c",
   "metadata": {},
   "source": [
    "Covariance and correlation are both measures used to quantify the relationship between two variables in statistical analysis, but they capture different aspects of the relationship.\n",
    "\n",
    "Covariance:\n",
    "- Covariance measures the extent to which two variables vary together. It indicates the direction (positive or negative) and magnitude of the linear relationship between the variables.\n",
    "- Covariance can take any value, positive or negative, depending on the direction of the relationship. A positive covariance indicates a positive relationship, meaning that as one variable increases, the other tends to increase as well. A negative covariance indicates a negative relationship, meaning that as one variable increases, the other tends to decrease.\n",
    "- However, covariance alone does not provide a standardized measure of the strength of the relationship, making it difficult to compare across different datasets.\n",
    "\n",
    "Correlation:\n",
    "- Correlation measures the strength and direction of the linear relationship between two variables. It is a standardized measure that ranges from -1 to 1.\n",
    "- A correlation of +1 indicates a perfect positive linear relationship, meaning that as one variable increases, the other increases proportionally.\n",
    "- A correlation of -1 indicates a perfect negative linear relationship, meaning that as one variable increases, the other decreases proportionally.\n",
    "- A correlation of 0 indicates no linear relationship between the variables.\n",
    "- Correlation is preferred over covariance because it provides a standardized measure that allows for easier interpretation and comparison across different datasets.\n",
    "\n",
    "Both covariance and correlation are used in statistical analysis to understand the relationship between variables. They can help identify patterns, dependencies, and associations between variables. They are commonly used in fields such as finance, economics, social sciences, and data analysis to assess the strength and direction of relationships, make predictions, and guide decision-making processes.\n"
   ]
  },
  {
   "cell_type": "markdown",
   "id": "f2ca87ba",
   "metadata": {},
   "source": [
    "**Q11. What is the formula for calculating the sample mean? Provide an example calculation for a\n",
    "dataset.**"
   ]
  },
  {
   "cell_type": "markdown",
   "id": "ec5cd454",
   "metadata": {},
   "source": [
    "Sample Mean = (Sum of all values in the dataset) / (Total number of values in the dataset)"
   ]
  },
  {
   "cell_type": "code",
   "execution_count": 17,
   "id": "7d97545f",
   "metadata": {},
   "outputs": [
    {
     "name": "stdout",
     "output_type": "stream",
     "text": [
      "Sample Mean: 20.0\n"
     ]
    }
   ],
   "source": [
    "import numpy as np\n",
    "\n",
    "# Example dataset\n",
    "dataset = [10, 15, 20, 25, 30]\n",
    "\n",
    "# Calculate the sample mean\n",
    "mean = np.mean(dataset)\n",
    "\n",
    "print(\"Sample Mean:\", mean)"
   ]
  },
  {
   "cell_type": "markdown",
   "id": "b5af4f70",
   "metadata": {},
   "source": [
    "**Q12. For a normal distribution data what is the relationship between its measure of central tendency?**"
   ]
  },
  {
   "cell_type": "markdown",
   "id": "1983d5d8",
   "metadata": {},
   "source": [
    "For a normal distribution, the three measures of central tendency (mean, median, and mode) are all equal to each other.\n",
    "\n",
    "In a perfectly symmetrical normal distribution, the mean, median, and mode will all have the same value, which is the peak or center of the distribution. This is because the normal distribution is symmetric around its mean.\n",
    "\n",
    "However, in real-world data, there can be slight deviations due to sampling variability or small departures from perfect normality. In such cases, the mean, median, and mode may not be exactly equal but will still be very close to each other.\n",
    "\n",
    "It's important to note that this relationship holds true for a perfectly normal distribution, but may not necessarily apply to other types of distributions."
   ]
  },
  {
   "cell_type": "markdown",
   "id": "9d2041bf",
   "metadata": {},
   "source": [
    "**Q13. How is covariance different from correlation?**"
   ]
  },
  {
   "cell_type": "markdown",
   "id": "a0e09b8f",
   "metadata": {},
   "source": [
    "covariance measures the direction and magnitude of the linear relationship between variables, while correlation measures the strength and direction of the linear relationship in a standardized manner. Correlation is more commonly used as it provides a more interpretable and comparable measure of the relationship between variables."
   ]
  },
  {
   "cell_type": "markdown",
   "id": "892cee83",
   "metadata": {},
   "source": [
    "**Q14. How do outliers affect measures of central tendency and dispersion? Provide an example.**"
   ]
  },
  {
   "cell_type": "markdown",
   "id": "318b388e",
   "metadata": {},
   "source": [
    "Outliers can have a significant impact on measures of central tendency and dispersion.\n",
    "\n",
    "Measures of Central Tendency:\n",
    "- Outliers can greatly influence the mean (average) of a dataset. Since the mean is calculated by summing all the values and dividing by the total count, even a single extreme value can significantly shift the mean towards the outlier.\n",
    "- The median, on the other hand, is less affected by outliers. It represents the middle value in a sorted dataset, so extreme values have less impact on its value.\n",
    "- The mode, which represents the most frequent value in a dataset, is generally not affected by outliers unless the outlier itself becomes the mode.\n",
    "\n",
    "Measures of Dispersion:\n",
    "- Outliers can greatly impact measures of dispersion, such as the range, variance, and standard deviation.\n",
    "- The range, which is the difference between the maximum and minimum values, can be heavily influenced by outliers, as they can significantly increase or decrease the range.\n",
    "- Outliers can also have a substantial effect on the variance and standard deviation, as these measures are based on the squared deviations from the mean. Outliers with large deviations from the mean can inflate these measures.\n",
    "\n",
    "Example:\n",
    "Consider a dataset of exam scores: 85, 90, 92, 88, 95, 100, 78, 86, 92, 98, 120]. In this dataset, the value 120 is an outlier, as it is significantly higher than the other scores.\n",
    "\n",
    "- Measures of Central Tendency: The mean of this dataset would be heavily influenced by the outlier, resulting in a higher value. The median and mode, however, would remain relatively unaffected.\n",
    "- Measures of Dispersion: The range would be greatly affected by the outlier, as it would increase the difference between the maximum and minimum values. The variance and standard deviation would also be impacted, as the squared deviations from the mean would be larger due to the outlier.\n",
    "\n",
    "It is important to be aware of the presence of outliers and consider their impact when analyzing and interpreting data. Outliers may require special treatment or consideration in statistical analysis to ensure accurate and meaningful results."
   ]
  },
  {
   "cell_type": "code",
   "execution_count": null,
   "id": "345e0a53",
   "metadata": {},
   "outputs": [],
   "source": []
  }
 ],
 "metadata": {
  "kernelspec": {
   "display_name": "Python 3 (ipykernel)",
   "language": "python",
   "name": "python3"
  },
  "language_info": {
   "codemirror_mode": {
    "name": "ipython",
    "version": 3
   },
   "file_extension": ".py",
   "mimetype": "text/x-python",
   "name": "python",
   "nbconvert_exporter": "python",
   "pygments_lexer": "ipython3",
   "version": "3.9.13"
  }
 },
 "nbformat": 4,
 "nbformat_minor": 5
}
