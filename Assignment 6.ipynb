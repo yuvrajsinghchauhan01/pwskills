{
 "cells": [
  {
   "cell_type": "code",
   "execution_count": null,
   "id": "b5d88a33",
   "metadata": {},
   "outputs": [],
   "source": [
    "'''\n",
    "Q1. Explain Class and Object with respect to Object-Oriented Programming.\n",
    "    Give a suitable example.\n",
    "'''"
   ]
  },
  {
   "cell_type": "markdown",
   "id": "b1da5f56",
   "metadata": {},
   "source": [
    "In object-oriented programming, a `class` is like a blueprint or a template for creating objects. It defines the common attributes (data) and behaviors (methods) that objects of that class can have. In simpler terms, a class is a way to describe what an object should look like and what it can do.\n",
    "\n",
    "An `object`, on the other hand, is an instance or a specific realization of a class. It is created from the class and has its own unique set of data and behavior. Think of a class as a general idea or concept, while an object is a specific implementation of that idea.\n",
    "\n"
   ]
  },
  {
   "cell_type": "code",
   "execution_count": 1,
   "id": "14f5df24",
   "metadata": {},
   "outputs": [
    {
     "name": "stdout",
     "output_type": "stream",
     "text": [
      "Red\n",
      "Honda\n",
      "The car has started.\n",
      "The car is accelerating at 60 km/h.\n",
      "The car has stopped.\n"
     ]
    }
   ],
   "source": [
    "class Car:\n",
    "    def __init__(self, color, brand):\n",
    "        self.color = color\n",
    "        self.brand = brand\n",
    "        self.mileage = 0\n",
    "    \n",
    "    def start(self):\n",
    "        print(\"The car has started.\")\n",
    "    \n",
    "    def accelerate(self, speed):\n",
    "        print(f\"The car is accelerating at {speed} km/h.\")\n",
    "    \n",
    "    def stop(self):\n",
    "        print(\"The car has stopped.\")\n",
    "\n",
    "# Creating objects/instances of the Car class\n",
    "car1 = Car(\"Red\", \"Toyota\")\n",
    "car2 = Car(\"Blue\", \"Honda\")\n",
    "\n",
    "# Accessing object attributes\n",
    "print(car1.color)   # Output: Red\n",
    "print(car2.brand)   # Output: Honda\n",
    "\n",
    "# Calling object methods\n",
    "car1.start()        # Output: The car has started.\n",
    "car2.accelerate(60) # Output: The car is accelerating at 60 km/h.\n",
    "car1.stop()         # Output: The car has stopped.\n"
   ]
  },
  {
   "cell_type": "code",
   "execution_count": null,
   "id": "ade7813b",
   "metadata": {},
   "outputs": [],
   "source": [
    "'''\n",
    "Q2. Name the four pillars of OOPs.\n",
    "'''"
   ]
  },
  {
   "cell_type": "markdown",
   "id": "49f0d88f",
   "metadata": {},
   "source": [
    "The four pillars of OOPs are:\n",
    "\n",
    "1. Encapsulation\n",
    "2. Polymorphism\n",
    "3. Inheritance\n",
    "4. Abstraction"
   ]
  },
  {
   "cell_type": "code",
   "execution_count": null,
   "id": "24d2a4d4",
   "metadata": {},
   "outputs": [],
   "source": [
    "'''\n",
    "Q3. Explain why the __init__() function is used. Give a suitable example.\n",
    "'''"
   ]
  },
  {
   "cell_type": "markdown",
   "id": "234d29d5",
   "metadata": {},
   "source": [
    "The `__init__()` function, also known as the initializer or constructor, is a special method in Python classes. It is automatically called when an object is created from the class. The purpose of the `__init__()` function is to initialize the attributes (data) of the object and perform any necessary setup or configuration."
   ]
  },
  {
   "cell_type": "code",
   "execution_count": 4,
   "id": "259cb1b2",
   "metadata": {},
   "outputs": [
    {
     "name": "stdout",
     "output_type": "stream",
     "text": [
      "Hi, my name is rohan and I am 25 years old.\n",
      "Hi, my name is kumar and I am 30 years old.\n"
     ]
    }
   ],
   "source": [
    "class Person:\n",
    "    def __init__(self, name, age):\n",
    "        self.name = name\n",
    "        self.age = age\n",
    "    \n",
    "    def introduce(self):\n",
    "        print(f\"Hi, my name is {self.name} and I am {self.age} years old.\")\n",
    "\n",
    "# Creating objects of the Person class\n",
    "person1 = Person(\"rohan\", 25)\n",
    "person2 = Person(\"kumar\", 30)\n",
    "\n",
    "# Calling the introduce() method\n",
    "person1.introduce()  # Output: Hi, my name is rohan and I am 25 years old.\n",
    "person2.introduce()  # Output: Hi, my name is kumar and I am 30 years old.\n"
   ]
  },
  {
   "cell_type": "code",
   "execution_count": null,
   "id": "3fc97543",
   "metadata": {},
   "outputs": [],
   "source": [
    "'''\n",
    "Q4. Why self is used in OOPs?\n",
    "'''"
   ]
  },
  {
   "cell_type": "markdown",
   "id": "3b7293bd",
   "metadata": {},
   "source": [
    "the `self` keyword is used to refer to the instance of a class within the class itself. It acts as a reference to the current object or instance on which a method is being called. The use of `self` allows us to access the attributes and methods of the class within its own code.\n",
    "\n"
   ]
  },
  {
   "cell_type": "code",
   "execution_count": null,
   "id": "f6b6677c",
   "metadata": {},
   "outputs": [],
   "source": [
    "'''\n",
    "Q5. What is inheritance? Give an example for each type of inheritance.\n",
    "'''"
   ]
  },
  {
   "cell_type": "markdown",
   "id": "2ec37521",
   "metadata": {},
   "source": [
    "`Inheritance` is a fundamental concept in object-oriented programming (OOP) that allows a class to inherit properties and behaviors from another class. The class that inherits is called a subclass or derived class, and the class from which it inherits is called a superclass or base class. Inheritance promotes code reuse and facilitates the concept of specialization and generalization."
   ]
  },
  {
   "cell_type": "code",
   "execution_count": 7,
   "id": "5e273a78",
   "metadata": {},
   "outputs": [
    {
     "name": "stdout",
     "output_type": "stream",
     "text": [
      "The vehicle has started.\n",
      "The Red car is driving.\n"
     ]
    },
    {
     "data": {
      "text/plain": [
       "'Toyota'"
      ]
     },
     "execution_count": 7,
     "metadata": {},
     "output_type": "execute_result"
    }
   ],
   "source": [
    "class Vehicle:\n",
    "    def __init__(self, brand):\n",
    "        self.brand = brand\n",
    "    \n",
    "    def start(self):\n",
    "        print(\"The vehicle has started.\")\n",
    "\n",
    "class Car(Vehicle):\n",
    "    def __init__(self, brand, color):\n",
    "        super().__init__(brand)\n",
    "        self.color = color\n",
    "\n",
    "    def drive(self):\n",
    "        print(f\"The {self.color} car is driving.\")\n",
    "\n",
    "car = Car(\"Toyota\", \"Red\")\n",
    "car.start()     # Output: The vehicle has started.\n",
    "car.drive()     # Output: The Red car is driving.\n",
    "car.brand       # Output: Toyota\n"
   ]
  },
  {
   "cell_type": "code",
   "execution_count": null,
   "id": "374652f0",
   "metadata": {},
   "outputs": [],
   "source": []
  }
 ],
 "metadata": {
  "kernelspec": {
   "display_name": "Python 3 (ipykernel)",
   "language": "python",
   "name": "python3"
  },
  "language_info": {
   "codemirror_mode": {
    "name": "ipython",
    "version": 3
   },
   "file_extension": ".py",
   "mimetype": "text/x-python",
   "name": "python",
   "nbconvert_exporter": "python",
   "pygments_lexer": "ipython3",
   "version": "3.9.13"
  }
 },
 "nbformat": 4,
 "nbformat_minor": 5
}
