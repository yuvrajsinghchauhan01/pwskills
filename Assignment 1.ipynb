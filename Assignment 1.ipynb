{
 "cells": [
  {
   "cell_type": "code",
   "execution_count": 1,
   "id": "831d1ebc",
   "metadata": {},
   "outputs": [
    {
     "data": {
      "text/plain": [
       "'\\nquestion 1:\\n\\nQ1. Create one variable containing following type of data: \\n(i) string \\n(ii) list \\n(iii) float \\n(iv) tuple \\n\\n'"
      ]
     },
     "execution_count": 1,
     "metadata": {},
     "output_type": "execute_result"
    }
   ],
   "source": [
    "'''\n",
    "question 1:\n",
    "\n",
    "Q1. Create one variable containing following type of data: \n",
    "(i) string \n",
    "(ii) list \n",
    "(iii) float \n",
    "(iv) tuple \n",
    "\n",
    "'''"
   ]
  },
  {
   "cell_type": "code",
   "execution_count": 2,
   "id": "6e326ec4",
   "metadata": {},
   "outputs": [],
   "source": [
    "name = 'pwskills'\n",
    "decimal = 99.9999\n",
    "score_sheet = [100, 'skills', 100.99, (23,89)]\n",
    "co_ordinate = (65, 87)"
   ]
  },
  {
   "cell_type": "code",
   "execution_count": null,
   "id": "5ddb4cd8",
   "metadata": {},
   "outputs": [],
   "source": [
    "'''\n",
    "question 2:\n",
    "\n",
    "Q2. Given are some following variables containing data: \n",
    "(i) var1 = ‘ ‘ \n",
    "(ii) var2 = ‘[ DS , ML , Python]’ \n",
    "(iii) var3 = [ ‘DS’ , ’ML’ , ‘Python’ ] \n",
    "(iv) var4 = 1\n",
    "\n",
    "'''"
   ]
  },
  {
   "cell_type": "code",
   "execution_count": 8,
   "id": "7d2f73a0",
   "metadata": {},
   "outputs": [
    {
     "name": "stdout",
     "output_type": "stream",
     "text": [
      "var1 is <class 'str'>\n",
      "var2 is <class 'str'>\n",
      "var3 is <class 'list'>\n",
      "var4 is <class 'int'>\n"
     ]
    }
   ],
   "source": [
    "#1\n",
    "var1 = ' '\n",
    "print(f\"var1 is {type(var1)}\")\n",
    "#2\n",
    "var2 = '[DS , ML, Python]'\n",
    "print(f\"var2 is {type(var2)}\")\n",
    "#3\n",
    "var3 = ['DS' , 'ML', 'Python']\n",
    "print(f\"var3 is {type(var3)}\")\n",
    "#4\n",
    "var4 = 1\n",
    "print(f\"var4 is {type(var4)}\")"
   ]
  },
  {
   "cell_type": "code",
   "execution_count": null,
   "id": "8b937271",
   "metadata": {},
   "outputs": [],
   "source": [
    "'''\n",
    "Q3. Explain the use of the following operators using an example: \n",
    "(i) / \n",
    "(ii) %  \n",
    "(iii) // \n",
    "(iv) ** \n",
    "\n",
    "'''"
   ]
  },
  {
   "cell_type": "code",
   "execution_count": 9,
   "id": "8c843f7c",
   "metadata": {},
   "outputs": [
    {
     "data": {
      "text/plain": [
       "0.8"
      ]
     },
     "execution_count": 9,
     "metadata": {},
     "output_type": "execute_result"
    }
   ],
   "source": [
    "#1\n",
    "# used for division and the outcome is in decimal form.\n",
    "4/5"
   ]
  },
  {
   "cell_type": "code",
   "execution_count": 11,
   "id": "46d3d25c",
   "metadata": {},
   "outputs": [
    {
     "data": {
      "text/plain": [
       "2"
      ]
     },
     "execution_count": 11,
     "metadata": {},
     "output_type": "execute_result"
    }
   ],
   "source": [
    "#2\n",
    "# known as modulo operator used for getting the remainder\n",
    "\n",
    "20%3"
   ]
  },
  {
   "cell_type": "code",
   "execution_count": 12,
   "id": "5f54a6ec",
   "metadata": {},
   "outputs": [
    {
     "data": {
      "text/plain": [
       "2"
      ]
     },
     "execution_count": 12,
     "metadata": {},
     "output_type": "execute_result"
    }
   ],
   "source": [
    "#3\n",
    "# used for division (also called floor division) used for getting the outcome as integer with decimals.\n",
    "\n",
    "5//2"
   ]
  },
  {
   "cell_type": "code",
   "execution_count": 13,
   "id": "98d9567c",
   "metadata": {},
   "outputs": [
    {
     "data": {
      "text/plain": [
       "8"
      ]
     },
     "execution_count": 13,
     "metadata": {},
     "output_type": "execute_result"
    }
   ],
   "source": [
    "#4\n",
    "# exponent operator used for get the power of some number\n",
    "2 ** 3"
   ]
  },
  {
   "cell_type": "code",
   "execution_count": null,
   "id": "f1bc4085",
   "metadata": {},
   "outputs": [],
   "source": [
    "'''\n",
    "Q4. Create a list of length 10 of your \n",
    "choice containing multiple types of data.\n",
    "Using for loop print the  element and its data type. \n",
    "'''"
   ]
  },
  {
   "cell_type": "code",
   "execution_count": 17,
   "id": "adec7300",
   "metadata": {},
   "outputs": [
    {
     "name": "stdout",
     "output_type": "stream",
     "text": [
      "the element is yuvraj and it's datatype is <class 'str'>\n",
      "\n",
      "the element is 1000 and it's datatype is <class 'int'>\n",
      "\n",
      "the element is 101.999 and it's datatype is <class 'float'>\n",
      "\n",
      "the element is pwskills and it's datatype is <class 'str'>\n",
      "\n",
      "the element is ['new', 1] and it's datatype is <class 'list'>\n",
      "\n",
      "the element is (1, 2) and it's datatype is <class 'tuple'>\n",
      "\n",
      "the element is class and it's datatype is <class 'str'>\n",
      "\n",
      "the element is top and it's datatype is <class 'str'>\n",
      "\n",
      "the element is 23883 and it's datatype is <class 'int'>\n",
      "\n",
      "the element is 2 and it's datatype is <class 'int'>\n",
      "\n"
     ]
    }
   ],
   "source": [
    "big_list = ['yuvraj', 1000, 101.999, 'pwskills', ['new',1], (1,2), 'class', 'top', 23883 , 2]\n",
    "for i in big_list:\n",
    "    print(f\"the element is {i} and it's datatype is {type(i)}\\n\")\n",
    "    "
   ]
  },
  {
   "cell_type": "code",
   "execution_count": null,
   "id": "6c6ff0bc",
   "metadata": {},
   "outputs": [],
   "source": [
    "'''\n",
    "Q5. Using a while loop, verify if the number A is purely divisible by\n",
    "number B and if so then how many  times it can be divisible. \n",
    "'''"
   ]
  },
  {
   "cell_type": "code",
   "execution_count": 32,
   "id": "3e1afff4",
   "metadata": {},
   "outputs": [
    {
     "name": "stdout",
     "output_type": "stream",
     "text": [
      "Enter number A: 3\n",
      "Enter number B: 3\n",
      "it is divisible 1 times\n"
     ]
    }
   ],
   "source": [
    "A = int(input('Enter number A: '))\n",
    "B = int(input('Enter number B: '))\n",
    "count = 0\n",
    "while A % B==0:\n",
    "    count += 1\n",
    "    A = A//B\n",
    "\n",
    "    \n",
    "    \n",
    "print(f\"it is divisible {count} times\")\n",
    "    "
   ]
  },
  {
   "cell_type": "code",
   "execution_count": 25,
   "id": "269b190d",
   "metadata": {},
   "outputs": [
    {
     "data": {
      "text/plain": [
       "'\\nQ6. Create a list containing 25 int type data. Using for loop and\\nif-else condition print if the element is  divisible by 3 or not. \\n'"
      ]
     },
     "execution_count": 25,
     "metadata": {},
     "output_type": "execute_result"
    }
   ],
   "source": [
    "'''\n",
    "Q6. Create a list containing 25 int type data. Using for loop and\n",
    "if-else condition print if the element is  divisible by 3 or not. \n",
    "'''"
   ]
  },
  {
   "cell_type": "code",
   "execution_count": 33,
   "id": "c34ca19b",
   "metadata": {},
   "outputs": [
    {
     "name": "stdout",
     "output_type": "stream",
     "text": [
      "1 is not divisible by 3\n",
      "2 is not divisible by 3\n",
      "3 is divisible by 3\n",
      "4 is not divisible by 3\n",
      "5 is not divisible by 3\n",
      "6 is divisible by 3\n",
      "7 is not divisible by 3\n",
      "8 is not divisible by 3\n",
      "9 is divisible by 3\n",
      "10 is not divisible by 3\n",
      "11 is not divisible by 3\n",
      "12 is divisible by 3\n",
      "13 is not divisible by 3\n",
      "14 is not divisible by 3\n",
      "15 is divisible by 3\n",
      "16 is not divisible by 3\n",
      "17 is not divisible by 3\n",
      "18 is divisible by 3\n",
      "19 is not divisible by 3\n",
      "20 is not divisible by 3\n",
      "21 is divisible by 3\n",
      "22 is not divisible by 3\n",
      "23 is not divisible by 3\n",
      "24 is divisible by 3\n",
      "25 is not divisible by 3\n"
     ]
    }
   ],
   "source": [
    "int_data = [1,2,3,4,5,6,7,8,9,10,11,12,13,14,15,16,17,18,19,20,21,22,23,24,25]\n",
    "for i in int_data:\n",
    "    if i % 3 ==0:\n",
    "        print(f\"{i} is divisible by 3\")\n",
    "    else:\n",
    "        print(f\"{i} is not divisible by 3\")"
   ]
  },
  {
   "cell_type": "code",
   "execution_count": null,
   "id": "958f75dc",
   "metadata": {},
   "outputs": [],
   "source": [
    "'''\n",
    "Q7. What do you understand about mutable and immutable data types?\n",
    "Give examples for both showing  this property. \n",
    "\n",
    "'''"
   ]
  },
  {
   "cell_type": "markdown",
   "id": "a3f7c9a1",
   "metadata": {},
   "source": [
    "### mutable\n",
    "data types which can be modified or values can be changed are called mutable ex: list, set, dict\n",
    "\n"
   ]
  },
  {
   "cell_type": "code",
   "execution_count": 35,
   "id": "d2ba2ffc",
   "metadata": {},
   "outputs": [
    {
     "name": "stdout",
     "output_type": "stream",
     "text": [
      "['PWSKILLS', 'top']\n"
     ]
    }
   ],
   "source": [
    "name = ['pwskills', 'top']\n",
    "name[0] = 'PWSKILLS'\n",
    "print(name)"
   ]
  },
  {
   "cell_type": "markdown",
   "id": "23d9cd83",
   "metadata": {},
   "source": [
    "### immutable\n",
    "\n",
    "datatypes which can be modified or changed are immutable ex: str, int, tuple"
   ]
  },
  {
   "cell_type": "code",
   "execution_count": 37,
   "id": "f00623f5",
   "metadata": {},
   "outputs": [
    {
     "ename": "TypeError",
     "evalue": "'tuple' object does not support item assignment",
     "output_type": "error",
     "traceback": [
      "\u001b[0;31m---------------------------------------------------------------------------\u001b[0m",
      "\u001b[0;31mTypeError\u001b[0m                                 Traceback (most recent call last)",
      "\u001b[0;32m/var/folders/8k/tvnfcwc53mb3rz1r77c6h6sr0000gn/T/ipykernel_22757/3172998168.py\u001b[0m in \u001b[0;36m<module>\u001b[0;34m\u001b[0m\n\u001b[1;32m      1\u001b[0m \u001b[0mname\u001b[0m \u001b[0;34m=\u001b[0m \u001b[0;34m(\u001b[0m\u001b[0;34m'pwskills'\u001b[0m\u001b[0;34m,\u001b[0m \u001b[0;34m'top'\u001b[0m\u001b[0;34m)\u001b[0m\u001b[0;34m\u001b[0m\u001b[0;34m\u001b[0m\u001b[0m\n\u001b[0;32m----> 2\u001b[0;31m \u001b[0mname\u001b[0m\u001b[0;34m[\u001b[0m\u001b[0;36m0\u001b[0m\u001b[0;34m]\u001b[0m \u001b[0;34m=\u001b[0m \u001b[0;34m'PWSKILLS'\u001b[0m\u001b[0;34m\u001b[0m\u001b[0;34m\u001b[0m\u001b[0m\n\u001b[0m",
      "\u001b[0;31mTypeError\u001b[0m: 'tuple' object does not support item assignment"
     ]
    }
   ],
   "source": [
    "name = ('pwskills', 'top')\n",
    "name[0] = 'PWSKILLS'"
   ]
  },
  {
   "cell_type": "code",
   "execution_count": null,
   "id": "7980523f",
   "metadata": {},
   "outputs": [],
   "source": []
  }
 ],
 "metadata": {
  "kernelspec": {
   "display_name": "Python 3 (ipykernel)",
   "language": "python",
   "name": "python3"
  },
  "language_info": {
   "codemirror_mode": {
    "name": "ipython",
    "version": 3
   },
   "file_extension": ".py",
   "mimetype": "text/x-python",
   "name": "python",
   "nbconvert_exporter": "python",
   "pygments_lexer": "ipython3",
   "version": "3.9.13"
  }
 },
 "nbformat": 4,
 "nbformat_minor": 5
}
