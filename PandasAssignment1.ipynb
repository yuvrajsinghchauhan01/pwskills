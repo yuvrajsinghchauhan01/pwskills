{
 "cells": [
  {
   "cell_type": "markdown",
   "id": "e818c21f",
   "metadata": {},
   "source": [
    "**Q1. Create a Pandas Series that contains the following data: 4, 8, 15, 16, 23, and 42. Then, print the series.**"
   ]
  },
  {
   "cell_type": "code",
   "execution_count": 1,
   "id": "de1cdc6c",
   "metadata": {},
   "outputs": [],
   "source": [
    "import pandas as pd"
   ]
  },
  {
   "cell_type": "code",
   "execution_count": 2,
   "id": "62c5d490",
   "metadata": {},
   "outputs": [
    {
     "name": "stdout",
     "output_type": "stream",
     "text": [
      "0     4\n",
      "1     8\n",
      "2    15\n",
      "3    16\n",
      "4    23\n",
      "5    42\n",
      "dtype: int64\n"
     ]
    }
   ],
   "source": [
    "data = [4,8,15,16,23,42]\n",
    "series = pd.Series(data)\n",
    "print(series)"
   ]
  },
  {
   "cell_type": "markdown",
   "id": "22aecdb4",
   "metadata": {},
   "source": [
    "**Q2. Create a variable of list type containing 10 elements in it, and apply pandas.Series function on the\n",
    "variable print it.**"
   ]
  },
  {
   "cell_type": "code",
   "execution_count": 4,
   "id": "520cf377",
   "metadata": {},
   "outputs": [
    {
     "name": "stdout",
     "output_type": "stream",
     "text": [
      "0     7\n",
      "1     8\n",
      "2     5\n",
      "3    16\n",
      "4     3\n",
      "5     2\n",
      "6     4\n",
      "7     2\n",
      "8     1\n",
      "9     1\n",
      "dtype: int64\n"
     ]
    }
   ],
   "source": [
    "data = [7,8,5,16,3,2,4,2,1,1]\n",
    "series = pd.Series(data)\n",
    "print(series)"
   ]
  },
  {
   "cell_type": "markdown",
   "id": "5ccab05e",
   "metadata": {},
   "source": [
    "**Q3. Create a Pandas DataFrame that contains the following data:**"
   ]
  },
  {
   "cell_type": "code",
   "execution_count": 5,
   "id": "22d628e6",
   "metadata": {},
   "outputs": [],
   "source": [
    "data = {\n",
    "    'name': ['Alice', 'bob', 'Clare'],\n",
    "    'age':[25,30,27],\n",
    "    'Gender':['Female', 'Male', 'Female']\n",
    "}"
   ]
  },
  {
   "cell_type": "code",
   "execution_count": 6,
   "id": "a2cf4105",
   "metadata": {},
   "outputs": [
    {
     "name": "stdout",
     "output_type": "stream",
     "text": [
      "    name  age  Gender\n",
      "0  Alice   25  Female\n",
      "1    bob   30    Male\n",
      "2  Clare   27  Female\n"
     ]
    }
   ],
   "source": [
    "dataframe = pd.DataFrame(data)\n",
    "print(dataframe)"
   ]
  },
  {
   "cell_type": "markdown",
   "id": "fe6dfc67",
   "metadata": {},
   "source": [
    "**Q4. What is ‘DataFrame’ in pandas and how is it different from pandas.series? Explain with an example.**"
   ]
  },
  {
   "cell_type": "markdown",
   "id": "a4d7d131",
   "metadata": {},
   "source": [
    "In pandas, a DataFrame is a 2-dimensional labeled data structure with columns of potentially different types. It is similar to a spreadsheet or SQL table.\n",
    "\n",
    "On the other hand, a pandas Series is a one-dimensional labeled array capable of holding any data type. It can be seen as a single column of a DataFrame."
   ]
  },
  {
   "cell_type": "code",
   "execution_count": 7,
   "id": "155c14b0",
   "metadata": {},
   "outputs": [
    {
     "name": "stdout",
     "output_type": "stream",
     "text": [
      "      Name  Age\n",
      "0    Alice   25\n",
      "1      Bob   30\n",
      "2  Charlie   35\n"
     ]
    }
   ],
   "source": [
    "import pandas as pd\n",
    "\n",
    "# Creating a DataFrame\n",
    "data = {'Name': ['Alice', 'Bob', 'Charlie'],\n",
    "        'Age': [25, 30, 35]}\n",
    "df = pd.DataFrame(data)\n",
    "print(df)"
   ]
  },
  {
   "cell_type": "code",
   "execution_count": 8,
   "id": "0366a419",
   "metadata": {},
   "outputs": [
    {
     "name": "stdout",
     "output_type": "stream",
     "text": [
      "0    25\n",
      "1    30\n",
      "2    35\n",
      "Name: Age, dtype: int64\n"
     ]
    }
   ],
   "source": [
    "# Creating a Series\n",
    "ages = pd.Series([25, 30, 35], name='Age')\n",
    "print(ages)"
   ]
  },
  {
   "cell_type": "markdown",
   "id": "30f49ff4",
   "metadata": {},
   "source": [
    "**Q5. What are some common functions you can use to manipulate data in a Pandas DataFrame? Can\n",
    "you give an example of when you might use one of these functions?**"
   ]
  },
  {
   "cell_type": "markdown",
   "id": "d1d78c14",
   "metadata": {},
   "source": [
    "Some common functions to manipulate data in a Pandas DataFrame include:\n",
    "\n",
    "1. head() - to view the first few rows of the DataFrame.\n",
    "2. tail() - to view the last few rows of the DataFrame.\n",
    "3. info() - to get a concise summary of the DataFrame.\n",
    "4. describe() - to generate descriptive statistics of the DataFrame.\n",
    "5. drop() - to drop specified labels from rows or columns.\n",
    "6. groupby() - to group data based on some criteria.\n",
    "\n",
    "For example, you might use the groupby() function to group data in a DataFrame by a particular column and then perform aggregate functions on the grouped data, such as finding the mean, sum, or count of each group. This is useful for analyzing data based on different categories or groups."
   ]
  },
  {
   "cell_type": "markdown",
   "id": "8122831d",
   "metadata": {},
   "source": [
    "**Q6. Which of the following is mutable in nature Series, DataFrame, Panel?**"
   ]
  },
  {
   "cell_type": "markdown",
   "id": "11019cf8",
   "metadata": {},
   "source": [
    "In pandas,  Series , DataFrame and panel are mutable, meaning their values can be changed after creation."
   ]
  },
  {
   "cell_type": "markdown",
   "id": "e8e93535",
   "metadata": {},
   "source": [
    "**Q7. Create a DataFrame using multiple Series. Explain with an example.**"
   ]
  },
  {
   "cell_type": "code",
   "execution_count": 9,
   "id": "50678c70",
   "metadata": {},
   "outputs": [
    {
     "name": "stdout",
     "output_type": "stream",
     "text": [
      "      Name  Age\n",
      "0    Alice   25\n",
      "1      Bob   30\n",
      "2  Charlie   35\n"
     ]
    }
   ],
   "source": [
    "import pandas as pd\n",
    "\n",
    "# Creating multiple Series\n",
    "names = pd.Series(['Alice', 'Bob', 'Charlie'])\n",
    "ages = pd.Series([25, 30, 35])\n",
    "\n",
    "# Creating a DataFrame using the Series\n",
    "data = {'Name': names, 'Age': ages}\n",
    "df = pd.DataFrame(data)\n",
    "print(df)"
   ]
  },
  {
   "cell_type": "code",
   "execution_count": null,
   "id": "956a2d09",
   "metadata": {},
   "outputs": [],
   "source": []
  }
 ],
 "metadata": {
  "kernelspec": {
   "display_name": "Python 3 (ipykernel)",
   "language": "python",
   "name": "python3"
  },
  "language_info": {
   "codemirror_mode": {
    "name": "ipython",
    "version": 3
   },
   "file_extension": ".py",
   "mimetype": "text/x-python",
   "name": "python",
   "nbconvert_exporter": "python",
   "pygments_lexer": "ipython3",
   "version": "3.9.13"
  }
 },
 "nbformat": 4,
 "nbformat_minor": 5
}
