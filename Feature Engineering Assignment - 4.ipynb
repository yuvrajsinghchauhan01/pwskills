{
 "cells": [
  {
   "cell_type": "markdown",
   "id": "fba1b20c",
   "metadata": {},
   "source": [
    "**Q1. What is the difference between Ordinal Encoding and Label Encoding? Provide an example of when you\n",
    "might choose one over the other.**"
   ]
  },
  {
   "cell_type": "markdown",
   "id": "45329dd7",
   "metadata": {},
   "source": [
    "Ordinal encoding and label encoding are both techniques used in machine learning to convert categorical data into numerical format.\n",
    "\n",
    "Ordinal encoding is used when the categorical data has an inherent order or ranking. For example, in the \"education level\" feature where categories are \"high school,\" \"college,\" and \"graduate,\" there is a clear order from low to high.\n",
    "\n",
    "Label encoding, on the other hand, is used when the categorical data has no intrinsic order. It simply assigns a unique number to each category. For example, in the \"color\" feature with categories \"red,\" \"green,\" and \"blue,\" there is no inherent order.\n",
    "\n",
    "So, you might choose ordinal encoding when the categorical data has a clear order or ranking, and label encoding when there is no such order.\n",
    "\n",
    "Here's a simple example in Python:"
   ]
  },
  {
   "cell_type": "code",
   "execution_count": null,
   "id": "d1737e81",
   "metadata": {},
   "outputs": [],
   "source": [
    "# Ordinal Encoding\n",
    "education_levels = {'high school': 0, 'college': 1, 'graduate': 2}\n",
    "\n",
    "# Label Encoding\n",
    "from sklearn.preprocessing import LabelEncoder\n",
    "color_categories = ['red', 'green', 'blue']\n",
    "label_encoder = LabelEncoder()\n",
    "encoded_colors = label_encoder.fit_transform(color_categories)\n",
    "print(encoded_colors)  # Output: [0, 1, 2]"
   ]
  },
  {
   "cell_type": "markdown",
   "id": "ebde701e",
   "metadata": {},
   "source": [
    "**Q2. Explain how Target Guided Ordinal Encoding works and provide an example of when you might use it in\n",
    "a machine learning project.**"
   ]
  },
  {
   "cell_type": "markdown",
   "id": "b5685e63",
   "metadata": {},
   "source": [
    "Target Guided Ordinal Encoding is a technique used in machine learning to encode categorical variables based on the target variable. It involves ordering the categories based on the mean of the target variable and then assigning ranks or numbers accordingly.\n",
    "\n",
    "Here's a simple explanation of how it works:\n",
    "1. For each category in the categorical variable, calculate the mean of the target variable.\n",
    "2. Order the categories based on these means.\n",
    "3. Assign ranks or numbers to the categories based on their order.\n",
    "\n",
    "You might use Target Guided Ordinal Encoding when you have a categorical variable with a large number of categories and you want to capture the relationship between the categories and the target variable. This can be useful in scenarios where the ordinal relationship between the categories and the target variable is important for the model to learn, such as in credit risk assessment or customer churn prediction.\n",
    "\n",
    "Here's a simple example in Python using the Titanic dataset:"
   ]
  },
  {
   "cell_type": "code",
   "execution_count": null,
   "id": "8f9fe635",
   "metadata": {},
   "outputs": [],
   "source": [
    "import pandas as pd\n",
    "from sklearn.model_selection import train_test_split\n",
    "from feature_engine.encoding import OrdinalEncoder\n",
    "\n",
    "# Load the Titanic dataset\n",
    "url = 'https://raw.githubusercontent.com/datasciencedojo/datasets/master/titanic.csv'\n",
    "data = pd.read_csv(url)\n",
    "\n",
    "# Split the data into training and testing sets\n",
    "X_train, X_test, y_train, y_test = train_test_split(data[['Pclass', 'Age', 'Fare', 'Embarked', 'Survived']], data['Survived'], test_size=0.3, random_state=0)\n",
    "\n",
    "# Apply Target Guided Ordinal Encoding to the 'Embarked' variable\n",
    "encoder = OrdinalEncoder(encoding_method='ordered', variables=['Embarked'])\n",
    "X_train_encoded = encoder.fit_transform(X_train, y_train)\n",
    "X_test_encoded = encoder.transform(X_test)"
   ]
  },
  {
   "cell_type": "markdown",
   "id": "608e358e",
   "metadata": {},
   "source": [
    "**Q3. Define covariance and explain why it is important in statistical analysis. How is covariance calculated?**"
   ]
  },
  {
   "cell_type": "markdown",
   "id": "18193d09",
   "metadata": {},
   "source": [
    "Covariance is a measure of how much two random variables vary together. It indicates the direction of the linear relationship between the variables.\n",
    "\n",
    "In statistical analysis, covariance is important because it helps in understanding the relationship between two variables. A positive covariance indicates that the two variables tend to increase or decrease together, while a negative covariance indicates that one variable tends to increase when the other decreases.\n",
    "\n",
    "Covariance is calculated using the following formula:\n",
    "\n",
    "`cov(X, Y) = Σ [ (Xi - X_mean) * (Yi - Y_mean) ] / (n - 1)`\n",
    "\n",
    "Where:\n",
    "- X and Y are the random variables\n",
    "- Xi and Yi are individual data points\n",
    "- X_mean and Y_mean are the means of X and Y\n",
    "- n is the number of data points\n",
    "\n",
    "It's important to note that covariance is influenced by the scale of the variables, so it's not always easy to interpret. Therefore, normalized measures like correlation coefficient are often used instead of covariance for comparing the strength of the relationship between variables."
   ]
  },
  {
   "cell_type": "markdown",
   "id": "401917d0",
   "metadata": {},
   "source": [
    "**Q4. For a dataset with the following categorical variables: Color (red, green, blue), Size (small, medium,\n",
    "large), and Material (wood, metal, plastic), perform label encoding using Python's scikit-learn library.\n",
    "Show your code and explain the output.**"
   ]
  },
  {
   "cell_type": "code",
   "execution_count": null,
   "id": "1c3e2e33",
   "metadata": {},
   "outputs": [],
   "source": [
    "from sklearn.preprocessing import LabelEncoder\n",
    "import pandas as pd\n",
    "\n",
    "# Create a DataFrame with the categorical variables\n",
    "data = {\n",
    "    'Color': ['red', 'green', 'blue', 'green', 'red'],\n",
    "    'Size': ['small', 'large', 'medium', 'small', 'large'],\n",
    "    'Material': ['wood', 'metal', 'plastic', 'metal', 'wood']\n",
    "}\n",
    "df = pd.DataFrame(data)\n",
    "\n",
    "# Initialize the LabelEncoder\n",
    "label_encoder = LabelEncoder()\n",
    "\n",
    "# Apply label encoding to each categorical variable\n",
    "df['Color_encoded'] = label_encoder.fit_transform(df['Color'])\n",
    "df['Size_encoded'] = label_encoder.fit_transform(df['Size'])\n",
    "df['Material_encoded'] = label_encoder.fit_transform(df['Material'])\n",
    "\n",
    "print(df)"
   ]
  },
  {
   "cell_type": "code",
   "execution_count": null,
   "id": "8dd9fe88",
   "metadata": {},
   "outputs": [],
   "source": [
    "   Color   Size Material  Color_encoded  Size_encoded  Material_encoded\n",
    "0    red  small     wood              2             2                 2\n",
    "1  green  large    metal              1             0                 1\n",
    "2   blue medium  plastic              0             1                 0\n",
    "3  green  small    metal              1             2                 1\n",
    "4    red  large     wood              2             0                 2"
   ]
  },
  {
   "cell_type": "markdown",
   "id": "0afed7ff",
   "metadata": {},
   "source": [
    "\n",
    "In the output, you can see the original categorical variables \"Color\", \"Size\", and \"Material\", along with their corresponding label encoded columns \"Color_encoded\", \"Size_encoded\", and \"Material_encoded\". The label encoder assigns a unique number to each category within the variables, allowing the categorical data to be represented as numerical values for machine learning algorithms."
   ]
  },
  {
   "cell_type": "markdown",
   "id": "f90a7e86",
   "metadata": {},
   "source": [
    "**Q5. Calculate the covariance matrix for the following variables in a dataset: Age, Income, and Education\n",
    "level. Interpret the results.**"
   ]
  },
  {
   "cell_type": "code",
   "execution_count": 2,
   "id": "6fe26efd",
   "metadata": {},
   "outputs": [
    {
     "name": "stdout",
     "output_type": "stream",
     "text": [
      "                      Age       Income  Education_level\n",
      "Age                  62.5     112500.0             22.5\n",
      "Income           112500.0  250000000.0          50000.0\n",
      "Education_level      22.5      50000.0             10.0\n"
     ]
    }
   ],
   "source": [
    "import pandas as pd\n",
    "\n",
    "# Create a DataFrame with the variables\n",
    "data = {\n",
    "    'Age': [35, 45, 30, 25, 40],\n",
    "    'Income': [50000, 60000, 40000, 30000, 70000],\n",
    "    'Education_level': [16, 18, 14, 12, 20]\n",
    "}\n",
    "df = pd.DataFrame(data)\n",
    "\n",
    "# Calculate the covariance matrix\n",
    "covariance_matrix = df.cov()\n",
    "print(covariance_matrix)"
   ]
  },
  {
   "cell_type": "markdown",
   "id": "1a1622a2",
   "metadata": {},
   "source": [
    "Interpreting the results:\n",
    "The covariance matrix will be a 3x3 matrix, where the diagonal elements represent the variances of Age, Income, and Education level, and the off-diagonal elements represent the covariances between the pairs of variables.\n",
    "\n",
    "For example, a positive covariance between Age and Income would indicate that as Age increases, Income tends to increase as well. A negative covariance would indicate the opposite relationship. Similarly, the covariances between Income and Education level, and Age and Education level, would indicate the relationships between those pairs of variables.\n",
    "\n",
    "It's important to note that the magnitude of the covariance is influenced by the scale of the variables, so it's not always easy to interpret. Therefore, normalized measures like correlation coefficient are often used instead of covariance for comparing the strength of the relationship between variables."
   ]
  },
  {
   "cell_type": "markdown",
   "id": "4b6f1329",
   "metadata": {},
   "source": [
    "**Q6. You are working on a machine learning project with a dataset containing several categorical\n",
    "variables, including \"Gender\" (Male/Female), \"Education Level\" (High School/Bachelor's/Master's/PhD),\n",
    "and \"Employment Status\" (Unemployed/Part-Time/Full-Time). Which encoding method would you use for\n",
    "each variable, and why?**"
   ]
  },
  {
   "cell_type": "markdown",
   "id": "a2f1fd6e",
   "metadata": {},
   "source": [
    "For the given categorical variables:\n",
    "1. \"Gender\" (Male/Female): You would use Label Encoding because there is no intrinsic order in the categories, and label encoding would assign a unique number to each category.\n",
    "\n",
    "2. \"Education Level\" (High School/Bachelor's/Master's/PhD): You would use Ordinal Encoding because there is an inherent order or ranking in the categories, from \"High School\" to \"PhD\".\n",
    "\n",
    "3. \"Employment Status\" (Unemployed/Part-Time/Full-Time): You would use One-Hot Encoding because there is no ordinal relationship between the categories, and one-hot encoding would create binary columns for each category, representing their presence or absence.\n",
    "\n",
    "Using these encoding methods ensures that the categorical variables are appropriately transformed into numerical format for machine learning algorithms to process while preserving the meaningful relationships within the data.\n"
   ]
  },
  {
   "cell_type": "markdown",
   "id": "931e8159",
   "metadata": {},
   "source": [
    "**Q7. You are analyzing a dataset with two continuous variables, \"Temperature\" and \"Humidity\", and two\n",
    "categorical variables, \"Weather Condition\" (Sunny/Cloudy/Rainy) and \"Wind Direction\" (North/South/\n",
    "East/West). Calculate the covariance between each pair of variables and interpret the results.**"
   ]
  },
  {
   "cell_type": "markdown",
   "id": "a5753d84",
   "metadata": {},
   "source": [
    "Since covariance is typically calculated between continuous variables, it's not suitable for calculating the covariance between continuous and categorical variables. Covariance measures the degree to which two variables change together, and it's not meaningful to calculate it between a continuous variable and a categorical variable.\n",
    "\n",
    "For continuous variables like \"Temperature\" and \"Humidity,\" you can calculate the covariance using the formula:\n",
    "\n",
    "`cov(Temperature, Humidity) = Σ [ (Ti - T_mean) * (Hi - H_mean) ] / (n - 1)`\n",
    "\n",
    "Where Ti and Hi are individual data points, T_mean and H_mean are the means of Temperature and Humidity, and n is the number of data points.\n",
    "\n",
    "However, for categorical variables like \"Weather Condition\" and \"Wind Direction,\" calculating covariance is not appropriate. Instead, you might want to explore the relationship between the categorical and continuous variables using other methods such as ANOVA or t-tests for comparing means across different categories.\n",
    "\n",
    "If you're interested in understanding the relationship between the categorical and continuous variables, you could also use visualization techniques such as box plots or violin plots to see how the continuous variables vary across different categories of the categorical variables\n"
   ]
  },
  {
   "cell_type": "code",
   "execution_count": null,
   "id": "5f83e56c",
   "metadata": {},
   "outputs": [],
   "source": []
  }
 ],
 "metadata": {
  "kernelspec": {
   "display_name": "Python 3 (ipykernel)",
   "language": "python",
   "name": "python3"
  },
  "language_info": {
   "codemirror_mode": {
    "name": "ipython",
    "version": 3
   },
   "file_extension": ".py",
   "mimetype": "text/x-python",
   "name": "python",
   "nbconvert_exporter": "python",
   "pygments_lexer": "ipython3",
   "version": "3.9.13"
  }
 },
 "nbformat": 4,
 "nbformat_minor": 5
}
